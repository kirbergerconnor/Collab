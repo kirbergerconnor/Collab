{
  "nbformat": 4,
  "nbformat_minor": 0,
  "metadata": {
    "colab": {
      "name": "python_primer.ipynb",
      "provenance": [],
      "collapsed_sections": [
        "wdi5W54rIQo8",
        "RJs48AReIc-7",
        "RNQk11lBS9rl",
        "MIe6JJz2pdso",
        "VwZzHV9h8vUB",
        "oV2QZUy8FZpI",
        "mQNTyfejGRQ0",
        "-I_s5prrKFGm",
        "KHaHze0cKzUD",
        "A944aX_sITtF",
        "xA7hlAB1yG9J",
        "-cFf_hBI4-za",
        "mV61IDOJ9FOB",
        "3o7s-RRMmBVg",
        "v6_PGb87LWcj",
        "kevs1WrMQFEA",
        "hSCTEGJH65Jl",
        "SZukQKTN65Jm",
        "_k2wGUHr65Jp",
        "Lboxat-4VAwM",
        "GJogWr7Yaw6L",
        "3CtOy1Ji-nEN",
        "el8Krdvgugnn",
        "0KzUDd-L0HEN",
        "chdNP8ONSPXN",
        "Y10hTcTK2bys",
        "zMZE00Zd4bG4",
        "2AMFjMh95cPr",
        "xcdFnnSV9G6r",
        "_7Oaee5HXwpB",
        "JQ-VMtxSZbmu",
        "FPtgABMC9S7Z",
        "sfqd6W6JJpCq",
        "JXmUUxycSXoF",
        "KYkUmHMwcLp5",
        "ccozCP4SiSmP",
        "Ewjh7-lqiqcM",
        "qJKttMwuqqrM",
        "_6pzjzqcLR1s"
      ],
      "toc_visible": true,
      "include_colab_link": true
    },
    "kernelspec": {
      "name": "python3",
      "display_name": "Python 3"
    },
    "language_info": {
      "name": "python"
    }
  },
  "cells": [
    {
      "cell_type": "markdown",
      "metadata": {
        "id": "view-in-github",
        "colab_type": "text"
      },
      "source": [
        "<a href=\"https://colab.research.google.com/github/connorkun/Collab/blob/main/python_primer.ipynb\" target=\"_parent\"><img src=\"https://colab.research.google.com/assets/colab-badge.svg\" alt=\"Open In Colab\"/></a>"
      ]
    },
    {
      "cell_type": "markdown",
      "source": [
        "# **A Python Primer** 🐍"
      ],
      "metadata": {
        "id": "XI99aOnIo7nB"
      }
    },
    {
      "cell_type": "code",
      "source": [
        "print(\"welcome to Python!\")"
      ],
      "metadata": {
        "id": "XGEeJWL0I1EM",
        "outputId": "c2fc351f-87cc-4d75-cfaa-af509274754e",
        "colab": {
          "base_uri": "https://localhost:8080/"
        }
      },
      "execution_count": 1,
      "outputs": [
        {
          "output_type": "stream",
          "name": "stdout",
          "text": [
            "welcome to Python!\n"
          ]
        }
      ]
    },
    {
      "cell_type": "markdown",
      "source": [
        "## **Assignment statements**"
      ],
      "metadata": {
        "id": "_bQe9b6l8yW-"
      }
    },
    {
      "cell_type": "markdown",
      "source": [
        "Assignment statements are used to (re)bind names to values and to modify attributes or items of mutable objects. An assignment statement is evaluated [from right to left](https://docs.python.org/3.10/reference/expressions.html#evaluation-order) and assigns each resulting object to its respective name."
      ],
      "metadata": {
        "id": "N7Tz8L7q89jm"
      }
    },
    {
      "cell_type": "code",
      "source": [
        "x = \"hello\""
      ],
      "metadata": {
        "id": "V2aDthfp84fV"
      },
      "execution_count": 5,
      "outputs": []
    },
    {
      "cell_type": "code",
      "source": [
        "x, y = \"hello\", \"world\""
      ],
      "metadata": {
        "id": "hqDBSM8o_jUQ"
      },
      "execution_count": 4,
      "outputs": []
    },
    {
      "cell_type": "code",
      "source": [
        "x = y = \"hello\""
      ],
      "metadata": {
        "id": "t45zTyCe_s0k"
      },
      "execution_count": 3,
      "outputs": []
    },
    {
      "cell_type": "code",
      "source": [
        "# modifying a mutable type\n",
        "nums = [1, 2, 3, 4, 5]\n",
        "\n",
        "nums[0], nums[1] = 20, 21\n",
        "nums[2] = nums[3] = nums[4]\n",
        "\n",
        "nums"
      ],
      "metadata": {
        "id": "eLbzYKUW_7is",
        "outputId": "2d2ffc40-1bff-4e40-f08d-65990b18f7d0",
        "colab": {
          "base_uri": "https://localhost:8080/"
        }
      },
      "execution_count": 2,
      "outputs": [
        {
          "output_type": "execute_result",
          "data": {
            "text/plain": [
              "[20, 21, 5, 5, 5]"
            ]
          },
          "metadata": {},
          "execution_count": 2
        }
      ]
    },
    {
      "cell_type": "markdown",
      "source": [
        "Python supports a number of [**augmented assignment statements**](https://docs.python.org/3/reference/simple_stmts.html#augmented-assignment-statements) i.e. the combination, in a single statement, of a binary operation (such as `+` and `-`) and an assignment statement. There are no unary increment (`x++`) or decrement (`x--`) operators."
      ],
      "metadata": {
        "id": "xAC8pExAEQ_u"
      }
    },
    {
      "cell_type": "code",
      "source": [
        "x = 10\n",
        "\n",
        "x += 2 # x = 10 + 2\n",
        "x /= 6 # x = 12 / 6\n",
        "\n",
        "x"
      ],
      "metadata": {
        "id": "4bWICz_AE05E",
        "outputId": "1fa17ccd-ac13-4e43-ce15-4bc4a4ea3a11",
        "colab": {
          "base_uri": "https://localhost:8080/"
        }
      },
      "execution_count": 6,
      "outputs": [
        {
          "output_type": "execute_result",
          "data": {
            "text/plain": [
              "2.0"
            ]
          },
          "metadata": {},
          "execution_count": 6
        }
      ]
    },
    {
      "cell_type": "markdown",
      "source": [
        "## **Control Flow Tools**"
      ],
      "metadata": {
        "id": "fJd4NQsYjgYB"
      }
    },
    {
      "cell_type": "code",
      "source": [
        "x = int(input(\"enter an integer x: \"))\n",
        "y = int(input(\"enter an integer y: \"))\n",
        "\n",
        "if x > y:\n",
        "  print(f\"{x} > {y}\")\n",
        "elif x == y:\n",
        "  print(f\"{x} == {y}\")\n",
        "else:\n",
        "  print(f\"{x} < {y}\")"
      ],
      "metadata": {
        "id": "MCsq3xXKqRtM",
        "outputId": "767ef81d-c01c-45fc-ac26-bc21d14589f7",
        "colab": {
          "base_uri": "https://localhost:8080/"
        }
      },
      "execution_count": 7,
      "outputs": [
        {
          "output_type": "stream",
          "name": "stdout",
          "text": [
            "enter an integer x: 5\n",
            "enter an integer y: 7\n",
            "5 < 7\n"
          ]
        }
      ]
    },
    {
      "cell_type": "markdown",
      "source": [
        "## **Loops**"
      ],
      "metadata": {
        "id": "c5oRgzYFOqOK"
      }
    },
    {
      "cell_type": "code",
      "source": [
        "counter = 0\n",
        "\n",
        "while counter <= 5:\n",
        "  print(counter)\n",
        "  counter = counter + 1"
      ],
      "metadata": {
        "id": "v6rQSEpiOyZE",
        "outputId": "72285fa7-f809-4184-a439-810874f7d3e2",
        "colab": {
          "base_uri": "https://localhost:8080/"
        }
      },
      "execution_count": 8,
      "outputs": [
        {
          "output_type": "stream",
          "name": "stdout",
          "text": [
            "0\n",
            "1\n",
            "2\n",
            "3\n",
            "4\n",
            "5\n"
          ]
        }
      ]
    },
    {
      "cell_type": "code",
      "source": [
        "for number in range(1, 6):\n",
        "  print(number)\n",
        "\n",
        "else:\n",
        "  print('done')"
      ],
      "metadata": {
        "id": "GEf6e8d9TeZg",
        "outputId": "257cdde7-1f21-4eae-862b-8abf618b9a73",
        "colab": {
          "base_uri": "https://localhost:8080/"
        }
      },
      "execution_count": 14,
      "outputs": [
        {
          "output_type": "stream",
          "name": "stdout",
          "text": [
            "1\n",
            "2\n",
            "3\n",
            "4\n",
            "5\n",
            "done\n"
          ]
        }
      ]
    },
    {
      "cell_type": "code",
      "source": [
        "my_string = \"hello world!\"\n",
        "\n",
        "for indx, char in enumerate(my_string):\n",
        "  print(indx, char)"
      ],
      "metadata": {
        "id": "PvWx1OQ8Jy-K",
        "outputId": "cc57d1a4-af02-498d-af88-9f692e2d6025",
        "colab": {
          "base_uri": "https://localhost:8080/"
        }
      },
      "execution_count": 10,
      "outputs": [
        {
          "output_type": "stream",
          "name": "stdout",
          "text": [
            "0 h\n",
            "1 e\n",
            "2 l\n",
            "3 l\n",
            "4 o\n",
            "5  \n",
            "6 w\n",
            "7 o\n",
            "8 r\n",
            "9 l\n",
            "10 d\n",
            "11 !\n"
          ]
        }
      ]
    },
    {
      "cell_type": "code",
      "source": [
        "my_string = \"hello world!\"\n",
        "\n",
        "for indx, char in enumerate(my_string):\n",
        "  if char == \" \": break\n",
        "  if char == \"o\": continue\n",
        "  print(indx, char)"
      ],
      "metadata": {
        "id": "RTLdGLibGxRE",
        "outputId": "0ebfb00f-2153-4c82-af6d-dd6040bac5bd",
        "colab": {
          "base_uri": "https://localhost:8080/"
        }
      },
      "execution_count": 12,
      "outputs": [
        {
          "output_type": "stream",
          "name": "stdout",
          "text": [
            "0 h\n",
            "1 e\n",
            "2 l\n",
            "3 l\n"
          ]
        }
      ]
    },
    {
      "cell_type": "markdown",
      "source": [
        "## **Comparisons and Membership Test Operations**"
      ],
      "metadata": {
        "id": "0bR58Iaupja9"
      }
    },
    {
      "cell_type": "markdown",
      "source": [
        "### **Value Comparison Operations** `<, <=, >, >=, !=, ==`\n",
        "\n",
        "#### 🌊🌊 for a deep dive see [\\[ 1 \\]](https://docs.python.org/3/reference/expressions.html#value-comparisons)."
      ],
      "metadata": {
        "id": "wdi5W54rIQo8"
      }
    },
    {
      "cell_type": "code",
      "source": [
        "x, y = 10, 20\n",
        "\n",
        "print(\"x != y\", x != y)\n",
        "print(\"x == y\", x == y)\n",
        "print(\"x < y\", x < y)\n",
        "print(\"x <= y\", x <= y)\n",
        "print(\"x > y\", x > y)\n",
        "print(\"x >= y\", x >= y)"
      ],
      "metadata": {
        "id": "D11J-uG_HU3B",
        "outputId": "244b6932-41ab-4878-b6c2-6649e636057c",
        "colab": {
          "base_uri": "https://localhost:8080/"
        }
      },
      "execution_count": 15,
      "outputs": [
        {
          "output_type": "stream",
          "name": "stdout",
          "text": [
            "x != y True\n",
            "x == y False\n",
            "x < y True\n",
            "x <= y True\n",
            "x > y False\n",
            "x >= y False\n"
          ]
        }
      ]
    },
    {
      "cell_type": "markdown",
      "source": [
        "### **Identity Comparison Operations** `is, is not`\n",
        "#### 🌊🌊 for a deep dive see [\\[ 1 \\]](https://docs.python.org/3/reference/expressions.html#is-not)."
      ],
      "metadata": {
        "id": "RJs48AReIc-7"
      }
    },
    {
      "cell_type": "code",
      "source": [
        "x = 257\n",
        "y = 257\n",
        "\n",
        "x is y"
      ],
      "metadata": {
        "id": "cVNrtc3mIlTa",
        "outputId": "78652a6b-dcce-4527-c59b-f365bb377b60",
        "colab": {
          "base_uri": "https://localhost:8080/"
        }
      },
      "execution_count": 19,
      "outputs": [
        {
          "output_type": "execute_result",
          "data": {
            "text/plain": [
              "False"
            ]
          },
          "metadata": {},
          "execution_count": 19
        }
      ]
    },
    {
      "cell_type": "code",
      "source": [
        "x is not y"
      ],
      "metadata": {
        "id": "O-C3MrP9I1oe",
        "outputId": "59b18728-dda9-4410-d1fb-e5203b37e0be",
        "colab": {
          "base_uri": "https://localhost:8080/"
        }
      },
      "execution_count": 17,
      "outputs": [
        {
          "output_type": "execute_result",
          "data": {
            "text/plain": [
              "True"
            ]
          },
          "metadata": {},
          "execution_count": 17
        }
      ]
    },
    {
      "cell_type": "markdown",
      "source": [
        "Python pre-loads a global list of integers in the range $-5$ to $256$. Any time an integer in this range is referenced Python does not create new one but uses the cached version. This is known as **integer interning**.\n",
        "\n",
        "Interning saves memory and can thus improve performance and memory footprint of a program. The downside is time required to search for existing values of objects which are to be interned."
      ],
      "metadata": {
        "id": "Oz4Q04q1I-rp"
      }
    },
    {
      "cell_type": "code",
      "source": [
        "# integer interning\n",
        "x = 256\n",
        "y = 256\n",
        "\n",
        "x is y"
      ],
      "metadata": {
        "id": "Mwv2UHjzI4Si",
        "outputId": "dc65295d-5428-484c-c84f-791ce3bf3d90",
        "colab": {
          "base_uri": "https://localhost:8080/"
        }
      },
      "execution_count": 18,
      "outputs": [
        {
          "output_type": "execute_result",
          "data": {
            "text/plain": [
              "True"
            ]
          },
          "metadata": {},
          "execution_count": 18
        }
      ]
    },
    {
      "cell_type": "markdown",
      "source": [
        "### **Membership Test Operations** `in, not in`\n",
        "#### 🌊🌊 for a deep dive see [\\[ 1 \\]](https://docs.python.org/3/reference/expressions.html#membership-test-operations)."
      ],
      "metadata": {
        "id": "POfT60qqK309"
      }
    },
    {
      "cell_type": "markdown",
      "source": [
        "The operators `in` and `not in` test for membership. `x` in `s` evaluates to `True` if `x` is a member of `s`, and `False` otherwise. `x not in s` returns the negation of `x in s`. All **built-in sequences** and **set types** support this as well as **dictionary**, for which `in` tests whether the dictionary has a given key."
      ],
      "metadata": {
        "id": "vIF1wIB5PlXm"
      }
    },
    {
      "cell_type": "code",
      "source": [
        "# `in` and `not in` are not supported for non-sequence types\n",
        "x = 12\n",
        "# 1 in x"
      ],
      "metadata": {
        "id": "3_g_UvuTPShT"
      },
      "execution_count": 20,
      "outputs": []
    },
    {
      "cell_type": "code",
      "source": [
        "# strings: y in x is True if y is a substring of x\n",
        "x, y = \"hello\", \"llo\"\n",
        "y in x"
      ],
      "metadata": {
        "id": "l982VGYoO31v",
        "outputId": "c569a84c-1de8-4251-9bd2-c5f034079202",
        "colab": {
          "base_uri": "https://localhost:8080/"
        }
      },
      "execution_count": 23,
      "outputs": [
        {
          "output_type": "execute_result",
          "data": {
            "text/plain": [
              "True"
            ]
          },
          "metadata": {},
          "execution_count": 23
        }
      ]
    },
    {
      "cell_type": "code",
      "source": [
        "# lists\n",
        "a_list = [1, 2, 3, 4, 5]\n",
        "4 in a_list"
      ],
      "metadata": {
        "id": "lSeILyURRj92",
        "outputId": "47fc07ff-a0fc-4ff2-e5df-0e0f2dcfaa40",
        "colab": {
          "base_uri": "https://localhost:8080/"
        }
      },
      "execution_count": 22,
      "outputs": [
        {
          "output_type": "execute_result",
          "data": {
            "text/plain": [
              "True"
            ]
          },
          "metadata": {},
          "execution_count": 22
        }
      ]
    },
    {
      "cell_type": "code",
      "source": [
        "# dictionaries\n",
        "d = {\"a\":1, \"b\":2, \"c\":3, \"d\":4, \"e\":5}\n",
        "\n",
        "# membership test for keys\n",
        "print(\"b in d\", \"b\" in d)\n",
        "\n",
        "# membership test for values\n",
        "print(\"2 in d\", 2 in d.values())\n",
        "\n",
        "# membership test for key-value pairs\n",
        "print(\"('a', 1) in d\", (\"a\", 1) in d.items())"
      ],
      "metadata": {
        "id": "nTVsdaT6QKKS",
        "outputId": "68696193-527c-45bd-f4a4-553435381f86",
        "colab": {
          "base_uri": "https://localhost:8080/"
        }
      },
      "execution_count": 24,
      "outputs": [
        {
          "output_type": "stream",
          "name": "stdout",
          "text": [
            "b in d True\n",
            "2 in d True\n",
            "('a', 1) in d True\n"
          ]
        }
      ]
    },
    {
      "cell_type": "markdown",
      "source": [
        "## **Boolean Types and Operations**"
      ],
      "metadata": {
        "id": "AE-QcxytSFjC"
      }
    },
    {
      "cell_type": "markdown",
      "source": [
        "The Python boolean type has only two possible values: `True` and `False`.\n",
        "\n",
        "\n",
        "In the context of Boolean operations, and also when expressions are used by control flow statements, the following values are interpreted as false: `False`, `None`, numeric zero of all types, and empty strings and containers (including strings, tuples, lists, dictionaries, sets and frozensets). All other values are interpreted as true.\n",
        "\n",
        "Note that both `and` and `or` are **short-circuit operators** and that neither of them restrict the value and type they return to `False` and `True`, but rather return the last evaluated argument:\n",
        "\n",
        "- `x or y` if `x` is false, then `y`, else `x`\n",
        "- `x and y` if `x` is false, then `x`, else `y`\n",
        "\n",
        "#### 🌊🌊 for a deep dive see [\\[ 1 \\]](https://docs.python.org/3/reference/expressions.html#boolean-operations), [\\[ 2 \\]](https://docs.python.org/3/library/stdtypes.html?highlight=boolean#truth-value-testing), [\\[ 3 \\]](https://docs.python.org/3/library/stdtypes.html?highlight=boolean#boolean-operations-and-or-not) and [\\[ 4 \\]](https://docs.python.org/3/reference/expressions.html#operator-precedence)."
      ],
      "metadata": {
        "id": "RNQk11lBS9rl"
      }
    },
    {
      "cell_type": "code",
      "source": [
        "# False, None, 0 and empty sequences evaluate to False\n",
        "x, y, z, j = False, None, 0, \"\"\n",
        "\n",
        "print(\"x\", x, bool(x))\n",
        "print(\"y\", y, bool(y))\n",
        "print(\"z\", z, bool(0))\n",
        "print(\"j\", j, bool(j))"
      ],
      "metadata": {
        "id": "4Mdwfm0WXCrf",
        "outputId": "1ca743f5-31e2-44f6-de09-7ff8770da7d6",
        "colab": {
          "base_uri": "https://localhost:8080/"
        }
      },
      "execution_count": 25,
      "outputs": [
        {
          "output_type": "stream",
          "name": "stdout",
          "text": [
            "x False False\n",
            "y None False\n",
            "z 0 False\n",
            "j  False\n"
          ]
        }
      ]
    },
    {
      "cell_type": "code",
      "source": [
        "# boolean operators: and, or, not\n",
        "print(\"True or False\", True or False)\n",
        "print(\"True and False\", True and False)\n",
        "print(\"not(True and False)\", not (True and False))"
      ],
      "metadata": {
        "id": "Bg4S92MymkPr",
        "outputId": "2da98bfc-2c6d-4e92-9ebd-1c8fb2874e87",
        "colab": {
          "base_uri": "https://localhost:8080/"
        }
      },
      "execution_count": 26,
      "outputs": [
        {
          "output_type": "stream",
          "name": "stdout",
          "text": [
            "True or False True\n",
            "True and False False\n",
            "not(True and False) True\n"
          ]
        }
      ]
    },
    {
      "cell_type": "code",
      "source": [
        "# short-circuiting: x or y (if x is False, then y, else x)\n",
        "a, b = \"\", \"default\"\n",
        "c = a or b\n",
        "c"
      ],
      "metadata": {
        "id": "fqwrmyQCu9vD",
        "outputId": "881f748a-86df-4d78-e0b8-73b32d3072cd",
        "colab": {
          "base_uri": "https://localhost:8080/",
          "height": 36
        }
      },
      "execution_count": 27,
      "outputs": [
        {
          "output_type": "execute_result",
          "data": {
            "text/plain": [
              "'default'"
            ],
            "application/vnd.google.colaboratory.intrinsic+json": {
              "type": "string"
            }
          },
          "metadata": {},
          "execution_count": 27
        }
      ]
    },
    {
      "cell_type": "code",
      "source": [
        "# short-circuiting: x and y (if x is False, then x, else y)\n",
        "a, b = 10, 0\n",
        "c = b and (a / b)\n",
        "c"
      ],
      "metadata": {
        "id": "sL2HIisDv9nB",
        "outputId": "63cd4a63-05f0-4265-b345-410e12814283",
        "colab": {
          "base_uri": "https://localhost:8080/"
        }
      },
      "execution_count": 28,
      "outputs": [
        {
          "output_type": "execute_result",
          "data": {
            "text/plain": [
              "0"
            ]
          },
          "metadata": {},
          "execution_count": 28
        }
      ]
    },
    {
      "cell_type": "code",
      "source": [
        "# operator precedence (and before or)\n",
        "True or True and False"
      ],
      "metadata": {
        "id": "KA7S4pH9QntX",
        "outputId": "ed3f2435-8a52-4fc4-fc78-e9ed578ea0e1",
        "colab": {
          "base_uri": "https://localhost:8080/"
        }
      },
      "execution_count": 29,
      "outputs": [
        {
          "output_type": "execute_result",
          "data": {
            "text/plain": [
              "True"
            ]
          },
          "metadata": {},
          "execution_count": 29
        }
      ]
    },
    {
      "cell_type": "code",
      "source": [
        "# operator precedence (parenthesized expression)\n",
        "(True or True) and False"
      ],
      "metadata": {
        "id": "eck9EvJpRu44",
        "outputId": "c218d2c2-f18d-46f2-ff6b-a2e14f184ac2",
        "colab": {
          "base_uri": "https://localhost:8080/"
        }
      },
      "execution_count": 30,
      "outputs": [
        {
          "output_type": "execute_result",
          "data": {
            "text/plain": [
              "False"
            ]
          },
          "metadata": {},
          "execution_count": 30
        }
      ]
    },
    {
      "cell_type": "markdown",
      "source": [
        "## **Numbers**\n"
      ],
      "metadata": {
        "id": "EiC85dX5lnRE"
      }
    },
    {
      "cell_type": "markdown",
      "source": [
        "### **Basic operations**"
      ],
      "metadata": {
        "id": "MIe6JJz2pdso"
      }
    },
    {
      "cell_type": "code",
      "execution_count": 31,
      "metadata": {
        "id": "h3AdQsoZldCM",
        "outputId": "bbf16298-fe0f-405b-a058-797c159d900e",
        "colab": {
          "base_uri": "https://localhost:8080/"
        }
      },
      "outputs": [
        {
          "output_type": "execute_result",
          "data": {
            "text/plain": [
              "8"
            ]
          },
          "metadata": {},
          "execution_count": 31
        }
      ],
      "source": [
        "2 + 2 * 3"
      ]
    },
    {
      "cell_type": "code",
      "source": [
        "# priority can be changed by using round brakets\n",
        "(2 + 2) * 3"
      ],
      "metadata": {
        "id": "qaLLZrtamZf4",
        "outputId": "5e3121ac-fb80-42b0-e438-8356c41f6522",
        "colab": {
          "base_uri": "https://localhost:8080/"
        }
      },
      "execution_count": 32,
      "outputs": [
        {
          "output_type": "execute_result",
          "data": {
            "text/plain": [
              "12"
            ]
          },
          "metadata": {},
          "execution_count": 32
        }
      ]
    },
    {
      "cell_type": "code",
      "source": [
        "# ** is the exponentiation operator\n",
        "10 ** 3"
      ],
      "metadata": {
        "id": "aXogxZXXnRAq",
        "outputId": "0ac69377-6002-4a39-94c9-ffe894aed4d2",
        "colab": {
          "base_uri": "https://localhost:8080/"
        }
      },
      "execution_count": 33,
      "outputs": [
        {
          "output_type": "execute_result",
          "data": {
            "text/plain": [
              "1000"
            ]
          },
          "metadata": {},
          "execution_count": 33
        }
      ]
    },
    {
      "cell_type": "code",
      "source": [
        "# pow(x, y) is an alternative to x**y\n",
        "pow(10, 3)"
      ],
      "metadata": {
        "id": "HomUPJxEg8iq",
        "outputId": "72680238-a78d-4e5f-c31c-59ce61277db5",
        "colab": {
          "base_uri": "https://localhost:8080/"
        }
      },
      "execution_count": 34,
      "outputs": [
        {
          "output_type": "execute_result",
          "data": {
            "text/plain": [
              "1000"
            ]
          },
          "metadata": {},
          "execution_count": 34
        }
      ]
    },
    {
      "cell_type": "code",
      "source": [
        "# classic division x / y returns a float\n",
        "5 / 2"
      ],
      "metadata": {
        "id": "d-66kaOCoYfK",
        "outputId": "a25ff4af-ad85-420e-8690-17a7feee2bd8",
        "colab": {
          "base_uri": "https://localhost:8080/"
        }
      },
      "execution_count": 35,
      "outputs": [
        {
          "output_type": "execute_result",
          "data": {
            "text/plain": [
              "2.5"
            ]
          },
          "metadata": {},
          "execution_count": 35
        }
      ]
    },
    {
      "cell_type": "code",
      "source": [
        "# floor division discards the fractional part\n",
        "5 // 2"
      ],
      "metadata": {
        "id": "nIT3BBE6uGuO",
        "outputId": "b8af208c-3dcb-43e2-f8d0-defd84e872a6",
        "colab": {
          "base_uri": "https://localhost:8080/"
        }
      },
      "execution_count": 36,
      "outputs": [
        {
          "output_type": "execute_result",
          "data": {
            "text/plain": [
              "2"
            ]
          },
          "metadata": {},
          "execution_count": 36
        }
      ]
    },
    {
      "cell_type": "code",
      "source": [
        "# the modulo returns the remainder of the division\n",
        "10 % 6"
      ],
      "metadata": {
        "id": "LFV4n0BPe7BA",
        "outputId": "c450d726-c295-4ee4-9190-afe8e8f0ef19",
        "colab": {
          "base_uri": "https://localhost:8080/"
        }
      },
      "execution_count": 37,
      "outputs": [
        {
          "output_type": "execute_result",
          "data": {
            "text/plain": [
              "4"
            ]
          },
          "metadata": {},
          "execution_count": 37
        }
      ]
    },
    {
      "cell_type": "markdown",
      "source": [
        "Before any arithmetic operation, numeric arguments are converted to a common type:\n",
        "\n",
        "- if either argument is a complex number, the other is converted to complex;\n",
        "\n",
        "- if either argument is a floating point number, the other is converted to floating point;\n",
        "\n",
        "- if both arguments are of the same type no conversion is necessary.\n",
        "\n",
        "Some additional rules apply for certain operators and custom-defined objects.\n",
        "\n",
        "#### 🌊🌊 for a deep dive see [\\[ 1 \\]](https://docs.python.org/3/reference/expressions.html#arithmetic-conversions) and [\\[ 2 \\]](https://www.pythonmorsels.com/type-coercion/)"
      ],
      "metadata": {
        "id": "TfWjBKY7Z2A0"
      }
    },
    {
      "cell_type": "code",
      "source": [
        "# arithmetic conversions - some examples\n",
        "print(\"2 + 2 =\", 2 + 2, \"type:\", type(2 + 2))\n",
        "print(\"2 + 2.0 =\", 2 + 2.0, \"type:\", type(2 + 2.0))\n",
        "print(\"4 % 2 =\", 4 % 2, \"type:\", type(4 % 2))\n",
        "print(\"4 % 2.0 =\", 4 % 2.0, \"type:\", type(4 % 2.0))"
      ],
      "metadata": {
        "id": "petgibm_vc7N",
        "outputId": "d9fdffb5-2ac1-45e4-e674-2e35766375f1",
        "colab": {
          "base_uri": "https://localhost:8080/"
        }
      },
      "execution_count": 39,
      "outputs": [
        {
          "output_type": "stream",
          "name": "stdout",
          "text": [
            "2 + 2 = 4 type: <class 'int'>\n",
            "2 + 2.0 = 4.0 type: <class 'float'>\n",
            "4 % 2 = 0 type: <class 'int'>\n",
            "4 % 2.0 = 0.0 type: <class 'float'>\n"
          ]
        }
      ]
    },
    {
      "cell_type": "markdown",
      "source": [
        "## **Exercise Break** 👩‍💻 👨‍💻"
      ],
      "metadata": {
        "id": "VwZzHV9h8vUB"
      }
    },
    {
      "cell_type": "markdown",
      "source": [
        "### **Fibonacci**\n",
        "Write a small script to compute the [Fibonacci sequence](https://en.wikipedia.org/wiki/Fibonacci_number) up to the ${7th}$ number (included) using a `while` loop. Once you are done, translate your `while` implementation into a `for` loop.\n",
        "\n",
        "$$F_0 = 0, F_1 = 1$$\n",
        "$$F_n = F_{n-1} + F_{n-2}$$\n",
        "$$\\text{for } n > 1$$"
      ],
      "metadata": {
        "id": "oV2QZUy8FZpI"
      }
    },
    {
      "cell_type": "code",
      "source": [
        "fir, sec = 0, 1\n",
        "count = 1\n",
        "\n",
        "while count <= 7:\n",
        "  print(fir)\n",
        "  fir, sec = sec, fir+sec\n",
        "  count += 1\n"
      ],
      "metadata": {
        "id": "O2oq9vswnU6S",
        "outputId": "c9c0264c-5db1-475c-fb83-8fcd959169a1",
        "colab": {
          "base_uri": "https://localhost:8080/"
        }
      },
      "execution_count": 53,
      "outputs": [
        {
          "output_type": "stream",
          "name": "stdout",
          "text": [
            "0\n",
            "1\n",
            "1\n",
            "2\n",
            "3\n",
            "5\n",
            "8\n"
          ]
        }
      ]
    },
    {
      "cell_type": "code",
      "source": [
        "# your `while` implementation"
      ],
      "metadata": {
        "id": "D_lUgiotGkbo"
      },
      "execution_count": 40,
      "outputs": []
    },
    {
      "cell_type": "code",
      "source": [
        "# your `for` implementation\n",
        "fir, sec = 0, 1\n",
        "\n",
        "for num in range(7):\n",
        "  print(fir)\n",
        "  fir, sec = sec, fir+sec\n",
        "  num += 1\n",
        "\n"
      ],
      "metadata": {
        "id": "h0aRAlG-IZvy",
        "outputId": "e5123d65-f7e7-4bf0-b6b5-058f2bfe5c63",
        "colab": {
          "base_uri": "https://localhost:8080/"
        }
      },
      "execution_count": 62,
      "outputs": [
        {
          "output_type": "stream",
          "name": "stdout",
          "text": [
            "0\n",
            "1\n",
            "1\n",
            "2\n",
            "3\n",
            "5\n",
            "8\n"
          ]
        }
      ]
    },
    {
      "cell_type": "markdown",
      "source": [
        "### **Fibonacci (solution)**"
      ],
      "metadata": {
        "id": "mQNTyfejGRQ0"
      }
    },
    {
      "cell_type": "code",
      "source": [
        "# `while` loop implementation\n",
        "a, b, n = 0, 1, 7\n",
        "\n",
        "while n > 0:\n",
        "  print(a)\n",
        "  a, b = b, a+b\n",
        "  n -= 1"
      ],
      "metadata": {
        "id": "GrSqsNTrGNRx",
        "outputId": "6d6b5ea8-aff2-4491-cabb-92933ce6590c",
        "colab": {
          "base_uri": "https://localhost:8080/"
        }
      },
      "execution_count": 60,
      "outputs": [
        {
          "output_type": "stream",
          "name": "stdout",
          "text": [
            "0\n",
            "1\n",
            "1\n",
            "2\n",
            "3\n",
            "5\n",
            "8\n"
          ]
        }
      ]
    },
    {
      "cell_type": "code",
      "source": [
        "# `for` loop implementation\n",
        "a, b, n = 0, 1, 7\n",
        "\n",
        "for _ in range(7):\n",
        "  print(a)\n",
        "  a, b = b, a+b"
      ],
      "metadata": {
        "id": "-9kwOVp7G2Px",
        "outputId": "b52cc2cc-8a02-4d0e-f09d-f080300288f6",
        "colab": {
          "base_uri": "https://localhost:8080/"
        }
      },
      "execution_count": 61,
      "outputs": [
        {
          "output_type": "stream",
          "name": "stdout",
          "text": [
            "0\n",
            "1\n",
            "1\n",
            "2\n",
            "3\n",
            "5\n",
            "8\n"
          ]
        }
      ]
    },
    {
      "cell_type": "code",
      "source": [
        ""
      ],
      "metadata": {
        "id": "UR0OdX_AnStu"
      },
      "execution_count": 61,
      "outputs": []
    },
    {
      "cell_type": "markdown",
      "source": [
        "### **Odd numbers**\n",
        "Write a small script to retrieve all odd numbers from $1$ up to $100$ (included) using a `while` loop. Once you are done, translate your `while` implementation into a `for` loop."
      ],
      "metadata": {
        "id": "-I_s5prrKFGm"
      }
    },
    {
      "cell_type": "code",
      "source": [
        "# your `while` implementation\n",
        "num = 1\n",
        "\n",
        "while num <= 101:\n",
        "  if num % 2 == 0:\n",
        "    num += 1\n",
        "  else:\n",
        "    print(num)\n",
        "    num += 1"
      ],
      "metadata": {
        "id": "gJZHGUfDKi4v",
        "outputId": "fae7d4ea-911a-42be-dc85-9b075ec78880",
        "colab": {
          "base_uri": "https://localhost:8080/"
        }
      },
      "execution_count": 65,
      "outputs": [
        {
          "output_type": "stream",
          "name": "stdout",
          "text": [
            "1\n",
            "3\n",
            "5\n",
            "7\n",
            "9\n",
            "11\n",
            "13\n",
            "15\n",
            "17\n",
            "19\n",
            "21\n",
            "23\n",
            "25\n",
            "27\n",
            "29\n",
            "31\n",
            "33\n",
            "35\n",
            "37\n",
            "39\n",
            "41\n",
            "43\n",
            "45\n",
            "47\n",
            "49\n",
            "51\n",
            "53\n",
            "55\n",
            "57\n",
            "59\n",
            "61\n",
            "63\n",
            "65\n",
            "67\n",
            "69\n",
            "71\n",
            "73\n",
            "75\n",
            "77\n",
            "79\n",
            "81\n",
            "83\n",
            "85\n",
            "87\n",
            "89\n",
            "91\n",
            "93\n",
            "95\n",
            "97\n",
            "99\n",
            "101\n"
          ]
        }
      ]
    },
    {
      "cell_type": "code",
      "source": [
        "# your `for` implementation\n",
        "\n",
        "for num in range(1, 102):\n",
        "  if num % 2 == 0:\n",
        "    num += 1\n",
        "  else:\n",
        "    print(num)\n",
        "    num += 1"
      ],
      "metadata": {
        "id": "fi-g4euyKlji",
        "outputId": "09cc534e-2f8e-4652-d6dd-2c239645776c",
        "colab": {
          "base_uri": "https://localhost:8080/"
        }
      },
      "execution_count": 66,
      "outputs": [
        {
          "output_type": "stream",
          "name": "stdout",
          "text": [
            "1\n",
            "3\n",
            "5\n",
            "7\n",
            "9\n",
            "11\n",
            "13\n",
            "15\n",
            "17\n",
            "19\n",
            "21\n",
            "23\n",
            "25\n",
            "27\n",
            "29\n",
            "31\n",
            "33\n",
            "35\n",
            "37\n",
            "39\n",
            "41\n",
            "43\n",
            "45\n",
            "47\n",
            "49\n",
            "51\n",
            "53\n",
            "55\n",
            "57\n",
            "59\n",
            "61\n",
            "63\n",
            "65\n",
            "67\n",
            "69\n",
            "71\n",
            "73\n",
            "75\n",
            "77\n",
            "79\n",
            "81\n",
            "83\n",
            "85\n",
            "87\n",
            "89\n",
            "91\n",
            "93\n",
            "95\n",
            "97\n",
            "99\n",
            "101\n"
          ]
        }
      ]
    },
    {
      "cell_type": "markdown",
      "source": [
        "### **Odd numbers (solution)**"
      ],
      "metadata": {
        "id": "KHaHze0cKzUD"
      }
    },
    {
      "cell_type": "code",
      "source": [
        "# `while` loop implementation\n",
        "n = 1\n",
        "\n",
        "while n <= 100:\n",
        "  if n%2 != 0: print(n)\n",
        "  n += 1"
      ],
      "metadata": {
        "id": "zH8DK9lQK4ir",
        "outputId": "37edd546-9df6-4a32-ab93-290752cc9529",
        "colab": {
          "base_uri": "https://localhost:8080/"
        }
      },
      "execution_count": 67,
      "outputs": [
        {
          "output_type": "stream",
          "name": "stdout",
          "text": [
            "1\n",
            "3\n",
            "5\n",
            "7\n",
            "9\n",
            "11\n",
            "13\n",
            "15\n",
            "17\n",
            "19\n",
            "21\n",
            "23\n",
            "25\n",
            "27\n",
            "29\n",
            "31\n",
            "33\n",
            "35\n",
            "37\n",
            "39\n",
            "41\n",
            "43\n",
            "45\n",
            "47\n",
            "49\n",
            "51\n",
            "53\n",
            "55\n",
            "57\n",
            "59\n",
            "61\n",
            "63\n",
            "65\n",
            "67\n",
            "69\n",
            "71\n",
            "73\n",
            "75\n",
            "77\n",
            "79\n",
            "81\n",
            "83\n",
            "85\n",
            "87\n",
            "89\n",
            "91\n",
            "93\n",
            "95\n",
            "97\n",
            "99\n"
          ]
        }
      ]
    },
    {
      "cell_type": "code",
      "source": [
        "# `for` loop implementation\n",
        "for n in range(1, 101):\n",
        "  if n%2 != 0: print(n)"
      ],
      "metadata": {
        "id": "VIHeXkztK-fW",
        "outputId": "874ffb1a-7c01-4a25-d4b2-228d12824c97",
        "colab": {
          "base_uri": "https://localhost:8080/"
        }
      },
      "execution_count": 47,
      "outputs": [
        {
          "output_type": "stream",
          "name": "stdout",
          "text": [
            "1\n",
            "3\n",
            "5\n",
            "7\n",
            "9\n",
            "11\n",
            "13\n",
            "15\n",
            "17\n",
            "19\n",
            "21\n",
            "23\n",
            "25\n",
            "27\n",
            "29\n",
            "31\n",
            "33\n",
            "35\n",
            "37\n",
            "39\n",
            "41\n",
            "43\n",
            "45\n",
            "47\n",
            "49\n",
            "51\n",
            "53\n",
            "55\n",
            "57\n",
            "59\n",
            "61\n",
            "63\n",
            "65\n",
            "67\n",
            "69\n",
            "71\n",
            "73\n",
            "75\n",
            "77\n",
            "79\n",
            "81\n",
            "83\n",
            "85\n",
            "87\n",
            "89\n",
            "91\n",
            "93\n",
            "95\n",
            "97\n",
            "99\n"
          ]
        }
      ]
    },
    {
      "cell_type": "markdown",
      "source": [
        "## **Text Sequence Types** (strings)"
      ],
      "metadata": {
        "id": "1rKlL7qwow3d"
      }
    },
    {
      "cell_type": "markdown",
      "source": [
        "Textual data in Python is handled with `str` objects. Strings are immutable sequences of Unicode code points. String literals can be written in a number of ways: `'hello'`, `\"hello\"`, `'''hello'''`, `\"\"\"hello\"\"\"`."
      ],
      "metadata": {
        "id": "7_ypqrADo78K"
      }
    },
    {
      "cell_type": "markdown",
      "source": [
        "### **Basic operations**\n",
        "#### 🌊🌊 for a deep dive see [\\[ 1 \\]](https://docs.python.org/3/library/stdtypes.html?highlight=str#string-methods)"
      ],
      "metadata": {
        "id": "A944aX_sITtF"
      }
    },
    {
      "cell_type": "code",
      "source": [
        "# string comparison\n",
        "\"hello\" == \"world\""
      ],
      "metadata": {
        "id": "twlpr06x4eXF",
        "outputId": "b985a445-433c-4c22-a4dd-7eaa691165bd",
        "colab": {
          "base_uri": "https://localhost:8080/"
        }
      },
      "execution_count": 68,
      "outputs": [
        {
          "output_type": "execute_result",
          "data": {
            "text/plain": [
              "False"
            ]
          },
          "metadata": {},
          "execution_count": 68
        }
      ]
    },
    {
      "cell_type": "code",
      "source": [
        "# string concatenation\n",
        "\"hello\" + \" \" + \"world\""
      ],
      "metadata": {
        "id": "IECvJ59G62oE",
        "outputId": "a9cba669-1eb1-4213-8560-28da01ce0607",
        "colab": {
          "base_uri": "https://localhost:8080/",
          "height": 36
        }
      },
      "execution_count": 69,
      "outputs": [
        {
          "output_type": "execute_result",
          "data": {
            "text/plain": [
              "'hello world'"
            ],
            "application/vnd.google.colaboratory.intrinsic+json": {
              "type": "string"
            }
          },
          "metadata": {},
          "execution_count": 69
        }
      ]
    },
    {
      "cell_type": "code",
      "source": [
        "# strings are immutable\n",
        "x = \"hello\"\n",
        "print(\"id(x)\", id(x))\n",
        "\n",
        "x += \" world!\"\n",
        "print(\"id(x)\", id(x))"
      ],
      "metadata": {
        "id": "F6En8u7X3MsH",
        "outputId": "381bcd7b-4118-4a92-816a-6cc315711a60",
        "colab": {
          "base_uri": "https://localhost:8080/"
        }
      },
      "execution_count": 70,
      "outputs": [
        {
          "output_type": "stream",
          "name": "stdout",
          "text": [
            "id(x) 139927306567600\n",
            "id(x) 139927093220848\n"
          ]
        }
      ]
    },
    {
      "cell_type": "code",
      "source": [
        "# string interning\n",
        "x, y = \"hello\", \"hello\"\n",
        "z, j = \"hello world!\", \"hello world!\"\n",
        "\n",
        "print(x is y)\n",
        "print(z is j)"
      ],
      "metadata": {
        "id": "USaUGmg326bN",
        "outputId": "6fce5a68-e802-4398-ba46-2d697896437f",
        "colab": {
          "base_uri": "https://localhost:8080/"
        }
      },
      "execution_count": 71,
      "outputs": [
        {
          "output_type": "stream",
          "name": "stdout",
          "text": [
            "True\n",
            "False\n"
          ]
        }
      ]
    },
    {
      "cell_type": "code",
      "source": [
        "s = \"       These Are Not The Droids You Are Looking For...     \""
      ],
      "metadata": {
        "id": "FoQ0bkvprgWF"
      },
      "execution_count": 72,
      "outputs": []
    },
    {
      "cell_type": "code",
      "source": [
        "# remove leading and trailing white spaces\n",
        "s = s.strip()\n",
        "s"
      ],
      "metadata": {
        "id": "zJ6U-L6JtR1s",
        "outputId": "1976e060-ed23-4013-935d-f6a484f956ad",
        "colab": {
          "base_uri": "https://localhost:8080/",
          "height": 36
        }
      },
      "execution_count": 73,
      "outputs": [
        {
          "output_type": "execute_result",
          "data": {
            "text/plain": [
              "'These Are Not The Droids You Are Looking For...'"
            ],
            "application/vnd.google.colaboratory.intrinsic+json": {
              "type": "string"
            }
          },
          "metadata": {},
          "execution_count": 73
        }
      ]
    },
    {
      "cell_type": "code",
      "source": [
        "# lowercase the entire string\n",
        "s = s.lower()\n",
        "s"
      ],
      "metadata": {
        "id": "XrLQu9K1wGfG",
        "outputId": "a4d20f8e-0574-4b60-ccbc-7a65b36aede3",
        "colab": {
          "base_uri": "https://localhost:8080/",
          "height": 36
        }
      },
      "execution_count": 74,
      "outputs": [
        {
          "output_type": "execute_result",
          "data": {
            "text/plain": [
              "'these are not the droids you are looking for...'"
            ],
            "application/vnd.google.colaboratory.intrinsic+json": {
              "type": "string"
            }
          },
          "metadata": {},
          "execution_count": 74
        }
      ]
    },
    {
      "cell_type": "code",
      "source": [
        "# replace ellipsis with empty space\n",
        "s = s.replace(\"...\", \"\")\n",
        "s"
      ],
      "metadata": {
        "id": "d1Hn1m92wbUO",
        "outputId": "84afa3cb-3dea-4f55-ff9f-60142c2f3b7a",
        "colab": {
          "base_uri": "https://localhost:8080/",
          "height": 36
        }
      },
      "execution_count": 75,
      "outputs": [
        {
          "output_type": "execute_result",
          "data": {
            "text/plain": [
              "'these are not the droids you are looking for'"
            ],
            "application/vnd.google.colaboratory.intrinsic+json": {
              "type": "string"
            }
          },
          "metadata": {},
          "execution_count": 75
        }
      ]
    },
    {
      "cell_type": "code",
      "source": [
        "# split string into a list of word tokens\n",
        "tokens = s.split()\n",
        "tokens"
      ],
      "metadata": {
        "id": "L_7S0TcKvPJr",
        "outputId": "d57267c7-5cec-442d-82e0-174e3cb86922",
        "colab": {
          "base_uri": "https://localhost:8080/"
        }
      },
      "execution_count": 76,
      "outputs": [
        {
          "output_type": "execute_result",
          "data": {
            "text/plain": [
              "['these', 'are', 'not', 'the', 'droids', 'you', 'are', 'looking', 'for']"
            ]
          },
          "metadata": {},
          "execution_count": 76
        }
      ]
    },
    {
      "cell_type": "markdown",
      "source": [
        "### **Custom String Formatting and f-strings**\n",
        "#### 🌊🌊 for a deep dive see [\\[ 1 \\]](https://docs.python.org/3/library/string.html#format-string-syntax) and [\\[ 2 \\]](https://docs.python.org/3/reference/lexical_analysis.html#formatted-string-literals)"
      ],
      "metadata": {
        "id": "xA7hlAB1yG9J"
      }
    },
    {
      "cell_type": "code",
      "source": [
        "# format string with `str.format()`\n",
        "answer = 42\n",
        "\"The answer is {}\".format(answer)"
      ],
      "metadata": {
        "id": "EfxYY0oHzoDB",
        "outputId": "a66e8a60-9833-4908-e41c-8c9fbd5526d5",
        "colab": {
          "base_uri": "https://localhost:8080/",
          "height": 36
        }
      },
      "execution_count": 77,
      "outputs": [
        {
          "output_type": "execute_result",
          "data": {
            "text/plain": [
              "'The answer is 42'"
            ],
            "application/vnd.google.colaboratory.intrinsic+json": {
              "type": "string"
            }
          },
          "metadata": {},
          "execution_count": 77
        }
      ]
    },
    {
      "cell_type": "code",
      "source": [
        "# format string with f-string\n",
        "answer = 42\n",
        "f\"The answer is {answer}\""
      ],
      "metadata": {
        "id": "IoU0FLn_1AVB",
        "outputId": "0a531ad8-cb15-4fa9-a05f-0e147fcbce1d",
        "colab": {
          "base_uri": "https://localhost:8080/",
          "height": 36
        }
      },
      "execution_count": 78,
      "outputs": [
        {
          "output_type": "execute_result",
          "data": {
            "text/plain": [
              "'The answer is 42'"
            ],
            "application/vnd.google.colaboratory.intrinsic+json": {
              "type": "string"
            }
          },
          "metadata": {},
          "execution_count": 78
        }
      ]
    },
    {
      "cell_type": "markdown",
      "source": [
        "### **Slicing strings**"
      ],
      "metadata": {
        "id": "-cFf_hBI4-za"
      }
    },
    {
      "cell_type": "code",
      "source": [
        "# s[i] (get ith item in a string)\n",
        "x = \"hello world\"\n",
        "\n",
        "print(f\"second character in x: {x[1]}\")\n",
        "print(f\"second to last character in x: {x[-2]}\")"
      ],
      "metadata": {
        "id": "P5-iXlHm49Bp",
        "outputId": "2b067455-5eaf-4222-9d99-0d42c81f0808",
        "colab": {
          "base_uri": "https://localhost:8080/"
        }
      },
      "execution_count": 79,
      "outputs": [
        {
          "output_type": "stream",
          "name": "stdout",
          "text": [
            "second character in x: e\n",
            "second to last character in x: l\n"
          ]
        }
      ]
    },
    {
      "cell_type": "code",
      "source": [
        "# s[i:j] (from the ith to the jth item excluded)\n",
        "x = \"hello world\"\n",
        "\n",
        "print(f\"first 4 characters in x: {x[0:4]}\")\n",
        "print(f\"first 3 characters in x: {x[:3]}\")\n",
        "print(f\"last 4 characters in x: {x[-4:]}\")"
      ],
      "metadata": {
        "id": "yexgqtDk8gPe",
        "outputId": "9228b4c3-d071-4cdf-e9ce-9dc6a563a90b",
        "colab": {
          "base_uri": "https://localhost:8080/"
        }
      },
      "execution_count": 80,
      "outputs": [
        {
          "output_type": "stream",
          "name": "stdout",
          "text": [
            "first 4 characters in x: hell\n",
            "first 3 characters in x: hel\n",
            "last 4 characters in x: orld\n"
          ]
        }
      ]
    },
    {
      "cell_type": "code",
      "source": [
        "# s[i:j:k] (from the ith to the jth item excluded, with step k)\n",
        "x = \"hello world\"\n",
        "\n",
        "print(f\"every other character in x: {x[::2]}\")\n",
        "print(f\"every other character in x: {x[0:11:2]}\")\n",
        "print(f\"last 4 characters in x (backward): {x[:-5:-1]}\")"
      ],
      "metadata": {
        "id": "i2fyx0sk9UTq",
        "outputId": "12487fe4-fbd6-4b55-ea03-7624c54c92c5",
        "colab": {
          "base_uri": "https://localhost:8080/"
        }
      },
      "execution_count": 81,
      "outputs": [
        {
          "output_type": "stream",
          "name": "stdout",
          "text": [
            "every other character in x: hlowrd\n",
            "every other character in x: hlowrd\n",
            "last 4 characters in x (backward): dlro\n"
          ]
        }
      ]
    },
    {
      "cell_type": "markdown",
      "source": [
        "### **Using `str.translate`**\n",
        "`str.translate` returns a copy of the string in which each character has been mapped through the given translation table. `str.maketrans(x[, y[, z]])` returns a translation table that cab be used for `str.translate()`.\n",
        "\n",
        "#### 🌊🌊 for a deep dive see [\\[ 1 \\]](https://docs.python.org/3/library/stdtypes.html#str.translate) and [\\[ 2 \\]](https://docs.python.org/3/library/stdtypes.html#str.maketrans)"
      ],
      "metadata": {
        "id": "mV61IDOJ9FOB"
      }
    },
    {
      "cell_type": "code",
      "source": [
        "s = \"I find your lack of faith disturbing...\"\n",
        "\n",
        "# single dict arg, mapping lowercase vowels to uppercase ones\n",
        "vowels = {\"a\": \"A\", \"e\": \"E\", \"i\": \"I\", \"o\": \"O\", \"u\": \"U\"}\n",
        "table = str.maketrans(vowels)\n",
        "\n",
        "s = s.translate(table)\n",
        "s"
      ],
      "metadata": {
        "id": "zP-m3k8M99FM",
        "outputId": "6016bb52-10e7-4443-c831-17579ee2230e",
        "colab": {
          "base_uri": "https://localhost:8080/",
          "height": 36
        }
      },
      "execution_count": 82,
      "outputs": [
        {
          "output_type": "execute_result",
          "data": {
            "text/plain": [
              "'I fInd yOUr lAck Of fAIth dIstUrbIng...'"
            ],
            "application/vnd.google.colaboratory.intrinsic+json": {
              "type": "string"
            }
          },
          "metadata": {},
          "execution_count": 82
        }
      ]
    },
    {
      "cell_type": "code",
      "source": [
        "s = \"I find your lack of faith disturbing...\"\n",
        "\n",
        "# the two strings (\"fi\", \"__\") must have the same len\n",
        "table = str.maketrans(\"fi\", \"ah\")\n",
        "\n",
        "s = s.translate(table)\n",
        "s"
      ],
      "metadata": {
        "id": "j9lzko6mAYZ7",
        "outputId": "4ecb30e9-acbb-483f-fda0-a0262c87de93",
        "colab": {
          "base_uri": "https://localhost:8080/",
          "height": 36
        }
      },
      "execution_count": 85,
      "outputs": [
        {
          "output_type": "execute_result",
          "data": {
            "text/plain": [
              "'I ahnd your lack oa aahth dhsturbhng...'"
            ],
            "application/vnd.google.colaboratory.intrinsic+json": {
              "type": "string"
            }
          },
          "metadata": {},
          "execution_count": 85
        }
      ]
    },
    {
      "cell_type": "code",
      "source": [
        "s = \"I find your lack of faith disturbing...\"\n",
        "\n",
        "# the third string arg specify items to be removed\n",
        "table = str.maketrans(\"\", \"\", \".\")\n",
        "\n",
        "s = s.translate(table)\n",
        "s"
      ],
      "metadata": {
        "id": "WCWBSkjmBdNT",
        "outputId": "c89c50d9-9a87-4cba-f23e-6a046ae2bd3f",
        "colab": {
          "base_uri": "https://localhost:8080/",
          "height": 36
        }
      },
      "execution_count": 84,
      "outputs": [
        {
          "output_type": "execute_result",
          "data": {
            "text/plain": [
              "'I find your lack of faith disturbing'"
            ],
            "application/vnd.google.colaboratory.intrinsic+json": {
              "type": "string"
            }
          },
          "metadata": {},
          "execution_count": 84
        }
      ]
    },
    {
      "cell_type": "markdown",
      "source": [
        "## **Sequence Types** (lists, tuples, ranges)"
      ],
      "metadata": {
        "id": "oVY5z-N9l4ZY"
      }
    },
    {
      "cell_type": "markdown",
      "source": [
        "### **Lists**\n",
        "Lists are mutable compound data types which can be written as a sequence of comma-separated values between square brackets. Lists can store items of different types.\n",
        "\n",
        "#### 🌊🌊 for a deep dive see [\\[ 1 \\]](https://docs.python.org/3/tutorial/datastructures.html#more-on-lists)"
      ],
      "metadata": {
        "id": "3o7s-RRMmBVg"
      }
    },
    {
      "cell_type": "code",
      "source": [
        "# sequence types support slicing (lists, strings, tuples, ranges...)\n",
        "my_list = [\"these\", \"are\", \"not\", \"the\", \"droids\", \"you\", \"are\", \"looking\", \"for\"]\n",
        "\n",
        "print(f\"2nd item in my_list: {my_list[:1]}\")\n",
        "print(f\"1st, 2nd, 3rd item: {my_list[:3]}\")"
      ],
      "metadata": {
        "id": "s9YUaYFzAs0d",
        "outputId": "3040bf3f-8453-42f7-e275-01886e46a62f",
        "colab": {
          "base_uri": "https://localhost:8080/"
        }
      },
      "execution_count": 86,
      "outputs": [
        {
          "output_type": "stream",
          "name": "stdout",
          "text": [
            "2nd item in my_list: ['these']\n",
            "1st, 2nd, 3rd item: ['these', 'are', 'not']\n"
          ]
        }
      ]
    },
    {
      "cell_type": "code",
      "source": [
        "# appending single items to a list\n",
        "my_list = [\"hello\", \"world\"]\n",
        "\n",
        "my_list.append(\"!!!\")\n",
        "my_list"
      ],
      "metadata": {
        "id": "gYR_gbl6C19d",
        "outputId": "f33f7b93-3bac-44a6-8ced-284688a9d061",
        "colab": {
          "base_uri": "https://localhost:8080/"
        }
      },
      "execution_count": 87,
      "outputs": [
        {
          "output_type": "execute_result",
          "data": {
            "text/plain": [
              "['hello', 'world', '!!!']"
            ]
          },
          "metadata": {},
          "execution_count": 87
        }
      ]
    },
    {
      "cell_type": "code",
      "source": [
        "# joining items into a string\n",
        "\" \".join(my_list)"
      ],
      "metadata": {
        "id": "ODXFxFQ9DKCc",
        "outputId": "c47cf90d-56a7-40b6-f2bc-f4a7f8675b08",
        "colab": {
          "base_uri": "https://localhost:8080/",
          "height": 36
        }
      },
      "execution_count": 88,
      "outputs": [
        {
          "output_type": "execute_result",
          "data": {
            "text/plain": [
              "'hello world !!!'"
            ],
            "application/vnd.google.colaboratory.intrinsic+json": {
              "type": "string"
            }
          },
          "metadata": {},
          "execution_count": 88
        }
      ]
    },
    {
      "cell_type": "code",
      "source": [
        "# joining two lists\n",
        "my_list_1 = [\"these\", \"are\", \"not\", \"the\", \"droids\"]\n",
        "my_list_2 = [\"you\", \"are\", \"looking\", \"for\"]\n",
        "\n",
        "# a new list is created\n",
        "my_list_1 + my_list_2"
      ],
      "metadata": {
        "id": "xLoRgb3dDqVY",
        "outputId": "ff46b104-4193-4702-b07f-93673323c022",
        "colab": {
          "base_uri": "https://localhost:8080/"
        }
      },
      "execution_count": 89,
      "outputs": [
        {
          "output_type": "execute_result",
          "data": {
            "text/plain": [
              "['these', 'are', 'not', 'the', 'droids', 'you', 'are', 'looking', 'for']"
            ]
          },
          "metadata": {},
          "execution_count": 89
        }
      ]
    },
    {
      "cell_type": "code",
      "source": [
        "# extending lists\n",
        "my_list_1 = [\"these\", \"are\", \"not\", \"the\", \"droids\"]\n",
        "my_list_2 = [\"you\", \"are\", \"looking\", \"for\"]\n",
        "\n",
        "# my_list_2 is updated\n",
        "my_list_2.extend(my_list_1)\n",
        "my_list_2"
      ],
      "metadata": {
        "id": "2QUx4wyQESSK",
        "outputId": "0b12b8f8-db97-4264-c103-386a6e95f311",
        "colab": {
          "base_uri": "https://localhost:8080/"
        }
      },
      "execution_count": 90,
      "outputs": [
        {
          "output_type": "execute_result",
          "data": {
            "text/plain": [
              "['you', 'are', 'looking', 'for', 'these', 'are', 'not', 'the', 'droids']"
            ]
          },
          "metadata": {},
          "execution_count": 90
        }
      ]
    },
    {
      "cell_type": "code",
      "source": [
        "# remove all items from a list\n",
        "my_list = [\"the\", \"answer\", \"is\", \"42\"]\n",
        "\n",
        "my_list.clear()\n",
        "my_list"
      ],
      "metadata": {
        "id": "nygtZAmoEvCi",
        "outputId": "d99937e4-394a-41e7-bb0a-9611bb1b4b51",
        "colab": {
          "base_uri": "https://localhost:8080/"
        }
      },
      "execution_count": 91,
      "outputs": [
        {
          "output_type": "execute_result",
          "data": {
            "text/plain": [
              "[]"
            ]
          },
          "metadata": {},
          "execution_count": 91
        }
      ]
    },
    {
      "cell_type": "code",
      "source": [
        "# pop an item from a list (the item is removed and returned)\n",
        "my_list = [\"the\", \"answer\", \"is\", \"42\"]\n",
        "\n",
        "first = my_list.pop(1)\n",
        "last = my_list.pop()\n",
        "\n",
        "print(first, last)"
      ],
      "metadata": {
        "id": "rFHp_jm7FDZa",
        "outputId": "c8af4dff-3b6b-4482-a6d6-56256e83e62c",
        "colab": {
          "base_uri": "https://localhost:8080/"
        }
      },
      "execution_count": 92,
      "outputs": [
        {
          "output_type": "stream",
          "name": "stdout",
          "text": [
            "answer 42\n"
          ]
        }
      ]
    },
    {
      "cell_type": "code",
      "source": [
        "# remove an item from a list (remove the first instance of the item)\n",
        "my_list = [\"the\", \"answer\", \"is\", \"the\", \"number\", \"42\"]\n",
        "\n",
        "my_list.remove(\"the\")\n",
        "my_list"
      ],
      "metadata": {
        "id": "74N9HBQrFoH9",
        "outputId": "7847b7b9-097c-43a2-f5e6-8feab9561559",
        "colab": {
          "base_uri": "https://localhost:8080/"
        }
      },
      "execution_count": 93,
      "outputs": [
        {
          "output_type": "execute_result",
          "data": {
            "text/plain": [
              "['answer', 'is', 'the', 'number', '42']"
            ]
          },
          "metadata": {},
          "execution_count": 93
        }
      ]
    },
    {
      "cell_type": "code",
      "source": [
        "# nested lists: a matrix example\n",
        "my_matrix = [[1, 2, 3],\n",
        "             [4, 1, 6],\n",
        "             [7, 8, 1]]"
      ],
      "metadata": {
        "id": "7Gg9YS03rbOx"
      },
      "execution_count": 94,
      "outputs": []
    },
    {
      "cell_type": "code",
      "source": [
        "# get the first row of my_matrix\n",
        "my_matrix[0]"
      ],
      "metadata": {
        "id": "UIFQWwMVrtNe",
        "outputId": "f8342e9a-d662-4899-c344-7fcd5695b977",
        "colab": {
          "base_uri": "https://localhost:8080/"
        }
      },
      "execution_count": 95,
      "outputs": [
        {
          "output_type": "execute_result",
          "data": {
            "text/plain": [
              "[1, 2, 3]"
            ]
          },
          "metadata": {},
          "execution_count": 95
        }
      ]
    },
    {
      "cell_type": "code",
      "source": [
        "# get the last item in the first row\n",
        "my_matrix[0][-1]"
      ],
      "metadata": {
        "id": "DypEWM0EsEf8",
        "outputId": "eb42d71b-4b3b-400e-a8f6-816dcaf97d9a",
        "colab": {
          "base_uri": "https://localhost:8080/"
        }
      },
      "execution_count": 96,
      "outputs": [
        {
          "output_type": "execute_result",
          "data": {
            "text/plain": [
              "3"
            ]
          },
          "metadata": {},
          "execution_count": 96
        }
      ]
    },
    {
      "cell_type": "markdown",
      "source": [
        "### **Tuples**\n",
        "Tuples are immutable sequences, typically used to store collections of heterogeneous or homogeneous data.\n",
        "\n",
        "#### 🌊🌊 for a deep dive see [\\[ 1 \\]](https://docs.python.org/3/library/stdtypes.html#tuples) and [\\[ 2 \\]](https://docs.python.org/3/tutorial/datastructures.html?highlight=tuple#tuples-and-sequences)"
      ],
      "metadata": {
        "id": "v6_PGb87LWcj"
      }
    },
    {
      "cell_type": "code",
      "source": [
        "# sequence types support slicing (lists, strings, tuples, ranges...)\n",
        "my_tuple = (\"this\", \"is\", \"a\", \"tuple\")\n",
        "\n",
        "print(f\"2nd item in my_tuple: {my_tuple[:1]}\")\n",
        "print(f\"1st, 2nd and 3rd item: {my_tuple[:3]}\")"
      ],
      "metadata": {
        "id": "19GJooU6M4ms",
        "outputId": "341ec34e-0b33-43ac-ff2d-bd049c3cf283",
        "colab": {
          "base_uri": "https://localhost:8080/"
        }
      },
      "execution_count": 97,
      "outputs": [
        {
          "output_type": "stream",
          "name": "stdout",
          "text": [
            "2nd item in my_tuple: ('this',)\n",
            "1st, 2nd and 3rd item: ('this', 'is', 'a')\n"
          ]
        }
      ]
    },
    {
      "cell_type": "code",
      "source": [
        "# an empty tuple\n",
        "my_tuple = ()\n",
        "my_tuple"
      ],
      "metadata": {
        "id": "vD2c1DTpJetk",
        "outputId": "7b422f31-1728-42e6-93ca-7729a3ed8645",
        "colab": {
          "base_uri": "https://localhost:8080/"
        }
      },
      "execution_count": 98,
      "outputs": [
        {
          "output_type": "execute_result",
          "data": {
            "text/plain": [
              "()"
            ]
          },
          "metadata": {},
          "execution_count": 98
        }
      ]
    },
    {
      "cell_type": "code",
      "source": [
        "# tuples are immutable, but their values may change!\n",
        "my_tuple = ([\"The\", \"answer\"], [\"is\", 42])\n",
        "my_tuple[1][1] = \"???\"\n",
        "my_tuple"
      ],
      "metadata": {
        "id": "PpzUD9xyNJrJ",
        "outputId": "ec332479-e7dc-4dd6-d7e8-18a770742fa9",
        "colab": {
          "base_uri": "https://localhost:8080/"
        }
      },
      "execution_count": 99,
      "outputs": [
        {
          "output_type": "execute_result",
          "data": {
            "text/plain": [
              "(['The', 'answer'], ['is', '???'])"
            ]
          },
          "metadata": {},
          "execution_count": 99
        }
      ]
    },
    {
      "cell_type": "code",
      "source": [
        "my_tuple = \"hello\", \"world\", \"!!!\"\n",
        "my_tuple"
      ],
      "metadata": {
        "id": "RGwYitHKO5tj",
        "outputId": "4df10b7f-5755-4943-b3a1-7850296c10ca",
        "colab": {
          "base_uri": "https://localhost:8080/"
        }
      },
      "execution_count": 100,
      "outputs": [
        {
          "output_type": "execute_result",
          "data": {
            "text/plain": [
              "('hello', 'world', '!!!')"
            ]
          },
          "metadata": {},
          "execution_count": 100
        }
      ]
    },
    {
      "cell_type": "code",
      "source": [
        "my_tuple = \"hello\",\n",
        "my_tuple"
      ],
      "metadata": {
        "id": "kWzFPMoDPFzp",
        "outputId": "fc27f6ea-bae6-4648-f533-4dd56f3c8d22",
        "colab": {
          "base_uri": "https://localhost:8080/"
        }
      },
      "execution_count": 101,
      "outputs": [
        {
          "output_type": "execute_result",
          "data": {
            "text/plain": [
              "('hello',)"
            ]
          },
          "metadata": {},
          "execution_count": 101
        }
      ]
    },
    {
      "cell_type": "code",
      "source": [
        "my_tuple = (\"hello\",)\n",
        "my_tuple"
      ],
      "metadata": {
        "id": "aNeDLunZPLvi",
        "outputId": "e34d3622-6473-4cd6-be92-04cf5b5edef2",
        "colab": {
          "base_uri": "https://localhost:8080/"
        }
      },
      "execution_count": 102,
      "outputs": [
        {
          "output_type": "execute_result",
          "data": {
            "text/plain": [
              "('hello',)"
            ]
          },
          "metadata": {},
          "execution_count": 102
        }
      ]
    },
    {
      "cell_type": "markdown",
      "source": [
        "### **Ranges**\n",
        "The range type represents an immutable sequence of numbers and is commonly used for looping a specific number of times in for loops. The range constructor accepts up to three (integer) arguments:\n",
        "- `start`: the value the resulting sequence starts from ($0$ by default);\n",
        "- `stop`: the last value of the sequence (not included);\n",
        "- `step`: the increment between each number in the sequence ($1$ by default).\n",
        "\n",
        "#### 🌊🌊 for a deep dive see [\\[ 1 \\]](https://docs.python.org/3/tutorial/controlflow.html?highlight=ranges#the-range-function) and [\\[ 2 \\]](https://docs.python.org/3/library/stdtypes.html#ranges)\n"
      ],
      "metadata": {
        "id": "kevs1WrMQFEA"
      }
    },
    {
      "cell_type": "code",
      "source": [
        "# create a sequence specifying [stop]\n",
        "list(range(10))"
      ],
      "metadata": {
        "id": "26ge50cRQRjF",
        "outputId": "6441896c-7ed4-4901-dad3-fb1e87bbdf89",
        "colab": {
          "base_uri": "https://localhost:8080/"
        }
      },
      "execution_count": 103,
      "outputs": [
        {
          "output_type": "execute_result",
          "data": {
            "text/plain": [
              "[0, 1, 2, 3, 4, 5, 6, 7, 8, 9]"
            ]
          },
          "metadata": {},
          "execution_count": 103
        }
      ]
    },
    {
      "cell_type": "code",
      "source": [
        "# create a sequence specifying [start, stop]\n",
        "list(range(1, 10))"
      ],
      "metadata": {
        "id": "eTT9z0ZhUC6f",
        "outputId": "4a8ef320-04ad-4310-a652-b7e9efe1bc6a",
        "colab": {
          "base_uri": "https://localhost:8080/"
        }
      },
      "execution_count": 104,
      "outputs": [
        {
          "output_type": "execute_result",
          "data": {
            "text/plain": [
              "[1, 2, 3, 4, 5, 6, 7, 8, 9]"
            ]
          },
          "metadata": {},
          "execution_count": 104
        }
      ]
    },
    {
      "cell_type": "code",
      "source": [
        "# create a sequence specifying [start, stop, step]\n",
        "list(range(0, -10, -1))"
      ],
      "metadata": {
        "id": "DbyLPs6iUfN8",
        "outputId": "3f33d4d0-2cac-4e11-fc99-0b95ebbf0cb5",
        "colab": {
          "base_uri": "https://localhost:8080/"
        }
      },
      "execution_count": 105,
      "outputs": [
        {
          "output_type": "execute_result",
          "data": {
            "text/plain": [
              "[0, -1, -2, -3, -4, -5, -6, -7, -8, -9]"
            ]
          },
          "metadata": {},
          "execution_count": 105
        }
      ]
    },
    {
      "cell_type": "markdown",
      "source": [
        "## **Exercise Break** 👩‍💻 👨‍💻 "
      ],
      "metadata": {
        "id": "hSCTEGJH65Jl"
      }
    },
    {
      "cell_type": "markdown",
      "source": [
        "### **Palindromes**\n",
        "Write a small script that checks whether the sequences in the given `seq` list are palindromes (read the same backward as forward, excluding punctuation and white spaces). Try to do this using string slicing after taking care of the required normalization steps (maybe with `str.translate`?)."
      ],
      "metadata": {
        "id": "SZukQKTN65Jm"
      }
    },
    {
      "cell_type": "code",
      "source": [
        "seq = [\n",
        "       \"Anna! \",\n",
        "       \"Never odd  , or even...\",\n",
        "       \" Madam, I'm Adam.\",\n",
        "       \"Was  it... a cat I saw?!\",\n",
        "]\n",
        "\n",
        "# your implementation\n",
        "table = str.maketrans(\"!?,.'\", \"     \")\n",
        "\n",
        "\n",
        "for word in seq:\n",
        "  n = int(len(word)/2)\n",
        "  word = word.translate(table).strip().replace(\" \", \"\").lower()\n",
        "  if word[:n-1] == word[:-n:-1]:\n",
        "    print(word + \" is palindrome\")\n",
        "  else:\n",
        "    print(word + \" is not palindrome\") \n",
        "  \n"
      ],
      "metadata": {
        "id": "CwRT2GQw65Jo",
        "outputId": "3d72687b-07d5-443b-a64d-09be4c9d9f41",
        "colab": {
          "base_uri": "https://localhost:8080/"
        }
      },
      "execution_count": 174,
      "outputs": [
        {
          "output_type": "stream",
          "name": "stdout",
          "text": [
            "anna is palindrome\n",
            "neveroddoreven is palindrome\n",
            "madamimadam is palindrome\n",
            "wasitacatisaw is palindrome\n"
          ]
        }
      ]
    },
    {
      "cell_type": "markdown",
      "source": [
        "### **Palindromes (solution)**"
      ],
      "metadata": {
        "id": "_k2wGUHr65Jp"
      }
    },
    {
      "cell_type": "code",
      "source": [
        "# palindromes implementation\n",
        "seq = [\n",
        "       \"Anna! \",\n",
        "       \"Never odd  , or even...\",\n",
        "       \" Madam, I'm Adam.\",\n",
        "       \"Was  it... a cat I saw?!\",\n",
        "]\n",
        "\n",
        "for item in seq:\n",
        "  item = item.translate(\n",
        "      str.maketrans(item, item.lower(), \" '!?,.\")\n",
        "      )\n",
        "  print(item == item[::-1])"
      ],
      "metadata": {
        "id": "ITdnASz565Jr",
        "outputId": "dc62711c-2cef-46a6-f282-49fd44ef6cc3",
        "colab": {
          "base_uri": "https://localhost:8080/"
        }
      },
      "execution_count": 175,
      "outputs": [
        {
          "output_type": "stream",
          "name": "stdout",
          "text": [
            "True\n",
            "True\n",
            "True\n",
            "True\n"
          ]
        }
      ]
    },
    {
      "cell_type": "markdown",
      "source": [
        "## **Set Types**"
      ],
      "metadata": {
        "id": "zrXLcRJjyYy4"
      }
    },
    {
      "cell_type": "markdown",
      "source": [
        "### **Sets**\n",
        "A set is a mutable, unordered collection of distinct [**hashable**](https://docs.python.org/3/glossary.html#term-hashable) (and therefore immutable) objects. Common uses include membership testing, removing duplicates from a sequence, and computing mathematical operations such as intersection, union, difference, and symmetric difference.\n",
        "\n",
        "#### 🌊🌊 for a deep dive see [\\[ 1 \\]](https://docs.python.org/3/library/stdtypes.html#set-types-set-frozenset)"
      ],
      "metadata": {
        "id": "Lboxat-4VAwM"
      }
    },
    {
      "cell_type": "code",
      "source": [
        "my_set = {\"a\", \"a\", \"b\", \"c\", \"d\", \"e\"}\n",
        "my_set"
      ],
      "metadata": {
        "id": "hlR50PnYWCeF",
        "outputId": "8b7fa831-fda4-4a9c-ef1f-a72e63a467a6",
        "colab": {
          "base_uri": "https://localhost:8080/"
        }
      },
      "execution_count": 176,
      "outputs": [
        {
          "output_type": "execute_result",
          "data": {
            "text/plain": [
              "{'a', 'b', 'c', 'd', 'e'}"
            ]
          },
          "metadata": {},
          "execution_count": 176
        }
      ]
    },
    {
      "cell_type": "code",
      "source": [
        "# sets are unordered, no indexing allowed!\n",
        "my_set[0]"
      ],
      "metadata": {
        "id": "hfkuP3vmX6Q3",
        "outputId": "bdacfb0c-c0d4-45e9-a26e-ba723bdd30e0",
        "colab": {
          "base_uri": "https://localhost:8080/",
          "height": 189
        }
      },
      "execution_count": 195,
      "outputs": [
        {
          "output_type": "error",
          "ename": "TypeError",
          "evalue": "ignored",
          "traceback": [
            "\u001b[0;31m---------------------------------------------------------------------------\u001b[0m",
            "\u001b[0;31mTypeError\u001b[0m                                 Traceback (most recent call last)",
            "\u001b[0;32m<ipython-input-195-f9519059eebf>\u001b[0m in \u001b[0;36m<module>\u001b[0;34m()\u001b[0m\n\u001b[1;32m      1\u001b[0m \u001b[0;31m# sets are unordered, no indexing allowed!\u001b[0m\u001b[0;34m\u001b[0m\u001b[0;34m\u001b[0m\u001b[0;34m\u001b[0m\u001b[0m\n\u001b[0;32m----> 2\u001b[0;31m \u001b[0mmy_set\u001b[0m\u001b[0;34m[\u001b[0m\u001b[0;36m0\u001b[0m\u001b[0;34m]\u001b[0m\u001b[0;34m\u001b[0m\u001b[0;34m\u001b[0m\u001b[0m\n\u001b[0m",
            "\u001b[0;31mTypeError\u001b[0m: 'set' object is not subscriptable"
          ]
        }
      ]
    },
    {
      "cell_type": "code",
      "source": [
        "# add and remove items from sets\n",
        "my_set = {\"a\", \"b\", \"c\"}\n",
        "\n",
        "my_set.add(\"d\")\n",
        "my_set.remove(\"a\")\n",
        "my_set.add(\"d\")\n",
        "my_set"
      ],
      "metadata": {
        "id": "LgZGGzMEYFmG",
        "outputId": "afcbf992-6782-42ad-976d-04a44f05907a",
        "colab": {
          "base_uri": "https://localhost:8080/"
        }
      },
      "execution_count": 193,
      "outputs": [
        {
          "output_type": "execute_result",
          "data": {
            "text/plain": [
              "{'b', 'c', 'd'}"
            ]
          },
          "metadata": {},
          "execution_count": 193
        }
      ]
    },
    {
      "cell_type": "code",
      "source": [
        "# create a set from a sequence\n",
        "my_list = [\"a\", \"a\", \"b\"]\n",
        "my_set_1 = set(my_list)\n",
        "print(f\"my_set_1: {my_set_1}\")\n",
        "\n",
        "my_string = \"abracadabra\"\n",
        "my_set_2 = set(my_string)\n",
        "print(f\"my_set_2: {my_set_2}\")"
      ],
      "metadata": {
        "id": "4G6KbFjCYut6",
        "outputId": "35f3f510-2179-49f8-b48d-e3bad6a323e6",
        "colab": {
          "base_uri": "https://localhost:8080/"
        }
      },
      "execution_count": 192,
      "outputs": [
        {
          "output_type": "stream",
          "name": "stdout",
          "text": [
            "my_set_1: {'a', 'b'}\n",
            "my_set_2: {'a', 'b', 'd', 'c', 'r'}\n"
          ]
        }
      ]
    },
    {
      "cell_type": "code",
      "source": [
        "# intersection\n",
        "it = set(\"buongiorno\")\n",
        "fr = set(\"bonjour\")\n",
        "set.intersection(it, fr)"
      ],
      "metadata": {
        "id": "BsGScLUVU8Wx",
        "outputId": "445b66bf-271e-41bc-da2c-b694b4c19080",
        "colab": {
          "base_uri": "https://localhost:8080/"
        }
      },
      "execution_count": 191,
      "outputs": [
        {
          "output_type": "execute_result",
          "data": {
            "text/plain": [
              "{'b', 'n', 'o', 'r', 'u'}"
            ]
          },
          "metadata": {},
          "execution_count": 191
        }
      ]
    },
    {
      "cell_type": "code",
      "source": [
        "# union\n",
        "it = set(\"buongiorno\")\n",
        "fr = set(\"bonjour\")\n",
        "set.union(it, fr)"
      ],
      "metadata": {
        "id": "SN8gyeJcYHRw",
        "outputId": "03f0bb00-a505-471d-d307-4c90c5f8af9a",
        "colab": {
          "base_uri": "https://localhost:8080/"
        }
      },
      "execution_count": 190,
      "outputs": [
        {
          "output_type": "execute_result",
          "data": {
            "text/plain": [
              "{'b', 'g', 'i', 'j', 'n', 'o', 'r', 'u'}"
            ]
          },
          "metadata": {},
          "execution_count": 190
        }
      ]
    },
    {
      "cell_type": "markdown",
      "source": [
        "## **Mapping Types**"
      ],
      "metadata": {
        "id": "T-dvXYvNye0N"
      }
    },
    {
      "cell_type": "markdown",
      "source": [
        "### **Dictionaries**\n",
        "A dictionary is a mutable set of `{key: value}` pairs, with the requirement that the keys are unique, [**hashable**](https://docs.python.org/3/glossary.html#term-hashable) (and therefore immutable) values that map to arbitrary objects.\n",
        "\n",
        "#### 🌊🌊 for a deep dive see [\\[ 1 \\]](https://docs.python.org/3/library/stdtypes.html#mapping-types-dict)"
      ],
      "metadata": {
        "id": "GJogWr7Yaw6L"
      }
    },
    {
      "cell_type": "code",
      "source": [
        "my_dict = {\"Luke\": \"jedi\",\n",
        "           \"Han Solo\": \"smuggler\",\n",
        "           \"Darth Vader\": \"sith lord\"}"
      ],
      "metadata": {
        "id": "mfwxLMkLdPW0"
      },
      "execution_count": 179,
      "outputs": []
    },
    {
      "cell_type": "code",
      "source": [
        "# get a view of the dictionary's keys\n",
        "my_dict.keys()"
      ],
      "metadata": {
        "id": "En-ZgKBNlHvu",
        "outputId": "19ddebdc-9c7a-46b1-a974-a3d7ee1d34a2",
        "colab": {
          "base_uri": "https://localhost:8080/"
        }
      },
      "execution_count": 180,
      "outputs": [
        {
          "output_type": "execute_result",
          "data": {
            "text/plain": [
              "dict_keys(['Luke', 'Han Solo', 'Darth Vader'])"
            ]
          },
          "metadata": {},
          "execution_count": 180
        }
      ]
    },
    {
      "cell_type": "code",
      "source": [
        "# get a view of the dictionary's values\n",
        "my_dict.values()"
      ],
      "metadata": {
        "id": "20SoLkiolhB-",
        "outputId": "035b47df-a33b-44f1-d249-59f07cb8a9f4",
        "colab": {
          "base_uri": "https://localhost:8080/"
        }
      },
      "execution_count": 181,
      "outputs": [
        {
          "output_type": "execute_result",
          "data": {
            "text/plain": [
              "dict_values(['jedi', 'smuggler', 'sith lord'])"
            ]
          },
          "metadata": {},
          "execution_count": 181
        }
      ]
    },
    {
      "cell_type": "code",
      "source": [
        "# get a view of the dictionary's items\n",
        "my_dict.items()"
      ],
      "metadata": {
        "id": "0m7pFuWqloNU",
        "outputId": "0ec42de5-c2d5-4f5d-fb41-db2daa9e3c60",
        "colab": {
          "base_uri": "https://localhost:8080/"
        }
      },
      "execution_count": 182,
      "outputs": [
        {
          "output_type": "execute_result",
          "data": {
            "text/plain": [
              "dict_items([('Luke', 'jedi'), ('Han Solo', 'smuggler'), ('Darth Vader', 'sith lord')])"
            ]
          },
          "metadata": {},
          "execution_count": 182
        }
      ]
    },
    {
      "cell_type": "code",
      "source": [
        "# retrieving values given a key\n",
        "my_dict[\"Luke\"]"
      ],
      "metadata": {
        "id": "-VWHW3K6mBF6",
        "outputId": "12f5e174-4d4f-4912-cb60-19e6ddd03e64",
        "colab": {
          "base_uri": "https://localhost:8080/",
          "height": 36
        }
      },
      "execution_count": 183,
      "outputs": [
        {
          "output_type": "execute_result",
          "data": {
            "text/plain": [
              "'jedi'"
            ],
            "application/vnd.google.colaboratory.intrinsic+json": {
              "type": "string"
            }
          },
          "metadata": {},
          "execution_count": 183
        }
      ]
    },
    {
      "cell_type": "code",
      "source": [
        "# KeyError if the given key is not found\n",
        "my_dict[\"Obi-Wan\"]"
      ],
      "metadata": {
        "id": "nxLXs9gCmRtm",
        "outputId": "d98ef1a6-1fd1-4764-f81c-7ebaa6cc9396",
        "colab": {
          "base_uri": "https://localhost:8080/",
          "height": 36
        }
      },
      "execution_count": 189,
      "outputs": [
        {
          "output_type": "execute_result",
          "data": {
            "text/plain": [
              "'jedi'"
            ],
            "application/vnd.google.colaboratory.intrinsic+json": {
              "type": "string"
            }
          },
          "metadata": {},
          "execution_count": 189
        }
      ]
    },
    {
      "cell_type": "code",
      "source": [
        "# retrieving values from a dictionary in a safe way\n",
        "my_dict.get(\"Obi-Wan\", \"I sense a disturbance the Force...\")"
      ],
      "metadata": {
        "id": "xzwv85CfmUng",
        "outputId": "4e8cdb43-b669-4a81-9ce8-136aa1b07c6e",
        "colab": {
          "base_uri": "https://localhost:8080/",
          "height": 36
        }
      },
      "execution_count": 185,
      "outputs": [
        {
          "output_type": "execute_result",
          "data": {
            "text/plain": [
              "'I sense a disturbance the Force...'"
            ],
            "application/vnd.google.colaboratory.intrinsic+json": {
              "type": "string"
            }
          },
          "metadata": {},
          "execution_count": 185
        }
      ]
    },
    {
      "cell_type": "code",
      "source": [
        "# add a new item to the dictionary\n",
        "my_dict[\"Obi-Wan\"] = \"jedi\"\n",
        "my_dict"
      ],
      "metadata": {
        "id": "pP0H3f1SnSYJ",
        "outputId": "01351fa4-d2a6-4258-c377-176cf444eaff",
        "colab": {
          "base_uri": "https://localhost:8080/"
        }
      },
      "execution_count": 186,
      "outputs": [
        {
          "output_type": "execute_result",
          "data": {
            "text/plain": [
              "{'Darth Vader': 'sith lord',\n",
              " 'Han Solo': 'smuggler',\n",
              " 'Luke': 'jedi',\n",
              " 'Obi-Wan': 'jedi'}"
            ]
          },
          "metadata": {},
          "execution_count": 186
        }
      ]
    },
    {
      "cell_type": "code",
      "source": [
        "# add a new {key: val} pair to the dictionary\n",
        "my_dict.update({\"Yoda\": \"jedi\"})\n",
        "my_dict"
      ],
      "metadata": {
        "id": "vmJA38rHncRM",
        "outputId": "dbb2725e-4667-43cf-845e-73fe183cf3c5",
        "colab": {
          "base_uri": "https://localhost:8080/"
        }
      },
      "execution_count": 187,
      "outputs": [
        {
          "output_type": "execute_result",
          "data": {
            "text/plain": [
              "{'Darth Vader': 'sith lord',\n",
              " 'Han Solo': 'smuggler',\n",
              " 'Luke': 'jedi',\n",
              " 'Obi-Wan': 'jedi',\n",
              " 'Yoda': 'jedi'}"
            ]
          },
          "metadata": {},
          "execution_count": 187
        }
      ]
    },
    {
      "cell_type": "code",
      "source": [
        "# iterating over a dictionary\n",
        "for key, value in my_dict.items():\n",
        "  print(f\"{key}: {value}\")"
      ],
      "metadata": {
        "id": "df4fOe_9mojS",
        "outputId": "0422a8ca-4d1e-4a87-aff3-44372b29b4d1",
        "colab": {
          "base_uri": "https://localhost:8080/"
        }
      },
      "execution_count": 188,
      "outputs": [
        {
          "output_type": "stream",
          "name": "stdout",
          "text": [
            "Luke: jedi\n",
            "Han Solo: smuggler\n",
            "Darth Vader: sith lord\n",
            "Obi-Wan: jedi\n",
            "Yoda: jedi\n"
          ]
        }
      ]
    },
    {
      "cell_type": "markdown",
      "source": [
        "## **Zipping iterables**"
      ],
      "metadata": {
        "id": "Xx7_lHRQ-dfM"
      }
    },
    {
      "cell_type": "markdown",
      "source": [
        "### **`zip()`**\n",
        "`zip()` iterates over several iterable objects (strings, lists...) in parallel, producing tuples with an item from each one.\n",
        "\n",
        "#### 🌊🌊 for a deep dive see [\\[ 1 \\]](https://docs.python.org/3/library/functions.html#zip)"
      ],
      "metadata": {
        "id": "3CtOy1Ji-nEN"
      }
    },
    {
      "cell_type": "code",
      "source": [
        "# zipping lists\n",
        "names = [\"Harry\", \"Ron\", \"Snape\"]\n",
        "roles = [\"student\", \"student\", \"professor\"]\n",
        "\n",
        "list(zip(names, roles))"
      ],
      "metadata": {
        "id": "S45FU0jD_Bn0",
        "outputId": "518e2b9c-9040-46d1-a28b-aa3bf12ee1e3",
        "colab": {
          "base_uri": "https://localhost:8080/"
        }
      },
      "execution_count": 196,
      "outputs": [
        {
          "output_type": "execute_result",
          "data": {
            "text/plain": [
              "[('Harry', 'student'), ('Ron', 'student'), ('Snape', 'professor')]"
            ]
          },
          "metadata": {},
          "execution_count": 196
        }
      ]
    },
    {
      "cell_type": "code",
      "source": [
        "# zipping strings\n",
        "str_1 = \"Minerva\"\n",
        "str_2 = \"McGonagall\"\n",
        "\n",
        "list(zip(str_1, str_2))"
      ],
      "metadata": {
        "id": "bMtZjNAWA-qk",
        "outputId": "45d9a542-3fa7-420e-d4a2-4482fa53d3a9",
        "colab": {
          "base_uri": "https://localhost:8080/"
        }
      },
      "execution_count": 197,
      "outputs": [
        {
          "output_type": "execute_result",
          "data": {
            "text/plain": [
              "[('M', 'M'),\n",
              " ('i', 'c'),\n",
              " ('n', 'G'),\n",
              " ('e', 'o'),\n",
              " ('r', 'n'),\n",
              " ('v', 'a'),\n",
              " ('a', 'g')]"
            ]
          },
          "metadata": {},
          "execution_count": 197
        }
      ]
    },
    {
      "cell_type": "markdown",
      "source": [
        "## **Comprehensions**"
      ],
      "metadata": {
        "id": "XwRRk4W6qK8M"
      }
    },
    {
      "cell_type": "markdown",
      "source": [
        "### **List Comprehensions**\n",
        "\n",
        "#### 🌊🌊 for a deep dive see [\\[ 1 \\]](https://docs.python.org/3/tutorial/datastructures.html?highlight=comprehensions#list-comprehensions)"
      ],
      "metadata": {
        "id": "el8Krdvgugnn"
      }
    },
    {
      "cell_type": "code",
      "source": [
        "# get list of squares from 1 to 100 (included)\n",
        "\n",
        "# for-loop approach\n",
        "squares_for = []\n",
        "\n",
        "for num in range(1, 101):\n",
        "  squares_for.append(num ** 2)\n",
        "\n",
        "# list comprehension\n",
        "squares_com = [num ** 2 for num in range(1, 101)]\n",
        "\n",
        "squares_for == squares_com"
      ],
      "metadata": {
        "id": "oWUjJL7vv-sY",
        "outputId": "11cf9ddc-8d58-4be4-ce08-167b8da90762",
        "colab": {
          "base_uri": "https://localhost:8080/"
        }
      },
      "execution_count": 198,
      "outputs": [
        {
          "output_type": "execute_result",
          "data": {
            "text/plain": [
              "True"
            ]
          },
          "metadata": {},
          "execution_count": 198
        }
      ]
    },
    {
      "cell_type": "code",
      "source": [
        "# get even numbers from 1 to 100 (included)\n",
        "\n",
        "# for-loop approach\n",
        "even_for = []\n",
        "\n",
        "for num in range(1, 101):\n",
        "  if num % 2 == 0: even_for.append(num)\n",
        "\n",
        "# list comprehension\n",
        "even_com = [num for num in range(1, 101) if num % 2 == 0]\n",
        "\n",
        "even_for == even_com"
      ],
      "metadata": {
        "id": "1BoNYeqquuvq",
        "outputId": "50e43e37-0933-4049-e83b-a24f07dbd326",
        "colab": {
          "base_uri": "https://localhost:8080/"
        }
      },
      "execution_count": 199,
      "outputs": [
        {
          "output_type": "execute_result",
          "data": {
            "text/plain": [
              "True"
            ]
          },
          "metadata": {},
          "execution_count": 199
        }
      ]
    },
    {
      "cell_type": "code",
      "source": [
        "# for numbers from 1 to 100 (included) print \"E\" if even, \"O\" if odd\n",
        "\n",
        "# for-loop approach\n",
        "nums_for = []\n",
        "\n",
        "for num in range(1, 101):\n",
        "  if num % 2 == 0: nums_for.append(\"E\")\n",
        "  else: nums_for.append(\"O\")\n",
        "\n",
        "# list comprehension\n",
        "nums_com = [\"E\" if num%2 == 0 else \"O\" for num in range(1, 101)]\n",
        "\n",
        "nums_for == nums_com"
      ],
      "metadata": {
        "id": "QNHQUjm3zOWm",
        "outputId": "7f5bce58-19e0-44e1-b7de-ebc8c4f117fa",
        "colab": {
          "base_uri": "https://localhost:8080/"
        }
      },
      "execution_count": 200,
      "outputs": [
        {
          "output_type": "execute_result",
          "data": {
            "text/plain": [
              "True"
            ]
          },
          "metadata": {},
          "execution_count": 200
        }
      ]
    },
    {
      "cell_type": "markdown",
      "source": [
        "### **Dictionary Comprehensions**\n",
        "\n",
        "#### 🌊🌊 for a deep dive see [\\[ 1 \\]](https://docs.python.org/3/tutorial/datastructures.html?highlight=comprehensions#dictionaries)"
      ],
      "metadata": {
        "id": "0KzUDd-L0HEN"
      }
    },
    {
      "cell_type": "code",
      "source": [
        "words = [\"use\", \"the\", \"force\", \"luke\"]\n",
        "words = {word: f\"{word}!\" for word in words}\n",
        "words"
      ],
      "metadata": {
        "id": "4Q5Qm6ma0ODd",
        "outputId": "c0c4c72f-2a64-449b-9657-a49697966aa8",
        "colab": {
          "base_uri": "https://localhost:8080/"
        }
      },
      "execution_count": 201,
      "outputs": [
        {
          "output_type": "execute_result",
          "data": {
            "text/plain": [
              "{'force': 'force!', 'luke': 'luke!', 'the': 'the!', 'use': 'use!'}"
            ]
          },
          "metadata": {},
          "execution_count": 201
        }
      ]
    },
    {
      "cell_type": "markdown",
      "source": [
        "## **Exercise Break 👩‍💻 👨‍💻**"
      ],
      "metadata": {
        "id": "chdNP8ONSPXN"
      }
    },
    {
      "cell_type": "markdown",
      "source": [
        "### **Get the positives**\n",
        "Given `nums`, a list of positive and negative floating-point numbers, use a list comprehension to create a new list `new_nums`. The new list should store only the positive values after they have been converted to integers (use `int()` to convert floats to integers)."
      ],
      "metadata": {
        "id": "Y10hTcTK2bys"
      }
    },
    {
      "cell_type": "code",
      "source": [
        "nums = [1.12, -3.2, -4.7, 10.0, 5.1, -8.3]\n",
        "\n",
        "# your implementation\n",
        "\n",
        "new_nums = [int(num) for num in nums if num>0]\n",
        "print(new_nums)"
      ],
      "metadata": {
        "id": "kmLLTbPy3F7w",
        "outputId": "e6e74066-1ad6-4a8b-b082-11b36c93cd60",
        "colab": {
          "base_uri": "https://localhost:8080/"
        }
      },
      "execution_count": 212,
      "outputs": [
        {
          "output_type": "stream",
          "name": "stdout",
          "text": [
            "[1, 10, 5]\n"
          ]
        }
      ]
    },
    {
      "cell_type": "markdown",
      "source": [
        "### **Get the positives (solution)**"
      ],
      "metadata": {
        "id": "zMZE00Zd4bG4"
      }
    },
    {
      "cell_type": "code",
      "source": [
        "# get the positives implementation\n",
        "nums = [1.12, -3.2, -4.7, 10.0, 5.1, -8.3]\n",
        "\n",
        "new_nums = [int(num) for num in nums if num > 0]\n",
        "new_nums"
      ],
      "metadata": {
        "id": "5rFxO4Fe3Hz8",
        "outputId": "516894ee-2751-4091-8e41-b9b8fef72d77",
        "colab": {
          "base_uri": "https://localhost:8080/"
        }
      },
      "execution_count": 203,
      "outputs": [
        {
          "output_type": "execute_result",
          "data": {
            "text/plain": [
              "[1, 10, 5]"
            ]
          },
          "metadata": {},
          "execution_count": 203
        }
      ]
    },
    {
      "cell_type": "markdown",
      "source": [
        "### **Star Wars**\n",
        "Given two lists `names` and `roles`, create a dictionary `star_wars` where each name is a key and has a role as its value `{name: role, ..., name: role}`. Use a dictionary comprehension."
      ],
      "metadata": {
        "id": "2AMFjMh95cPr"
      }
    },
    {
      "cell_type": "code",
      "source": [
        "names = [\"Han Solo\", \"Obi-wan\", \"Luke\", \"Darth Vader\"]\n",
        "roles = [\"smuggler\", \"jedi\", \"jedi\", \"sith lord\"]\n",
        "\n",
        "# your implementation\n",
        "\n",
        "star_wars = {name: role for name, role in zip(names, roles)}\n",
        "star_wars"
      ],
      "metadata": {
        "id": "8E-XO5r48gOT",
        "outputId": "39c3e823-f94a-463c-b8e3-074b917a7de0",
        "colab": {
          "base_uri": "https://localhost:8080/"
        }
      },
      "execution_count": 217,
      "outputs": [
        {
          "output_type": "execute_result",
          "data": {
            "text/plain": [
              "{'Darth Vader': 'sith lord',\n",
              " 'Han Solo': 'smuggler',\n",
              " 'Luke': 'jedi',\n",
              " 'Obi-wan': 'jedi'}"
            ]
          },
          "metadata": {},
          "execution_count": 217
        }
      ]
    },
    {
      "cell_type": "markdown",
      "source": [
        "### **Star Wars (solution)**"
      ],
      "metadata": {
        "id": "xcdFnnSV9G6r"
      }
    },
    {
      "cell_type": "code",
      "source": [
        "# Star Wars implementation\n",
        "names = [\"Han Solo\", \"Obi-wan\", \"Luke\", \"Darth Vader\"]\n",
        "roles = [\"smuggler\", \"jedi\", \"jedi\", \"sith lord\"]\n",
        "\n",
        "star_wars = {name: role for name, role in zip(names, roles)}\n",
        "star_wars"
      ],
      "metadata": {
        "id": "c2vXOQAf9LAc",
        "outputId": "b161ee38-35a8-406d-f608-e69f9974925d",
        "colab": {
          "base_uri": "https://localhost:8080/"
        }
      },
      "execution_count": 216,
      "outputs": [
        {
          "output_type": "execute_result",
          "data": {
            "text/plain": [
              "{'Darth Vader': 'sith lord',\n",
              " 'Han Solo': 'smuggler',\n",
              " 'Luke': 'jedi',\n",
              " 'Obi-wan': 'jedi'}"
            ]
          },
          "metadata": {},
          "execution_count": 216
        }
      ]
    },
    {
      "cell_type": "markdown",
      "source": [
        "### **Transpose M**\n",
        "Write a script to transpose the matrix $\\mathbf{M}$ using a list comprehension. Your result should match with $\\mathbf{M}^\\top$.\n",
        "\n",
        "$$\\mathbf{M} = \\begin{bmatrix}\n",
        "1 & 2 & 3\\\\\n",
        "4 & 5 & 6\\\\\n",
        "7 & 8 & 9\\\\\n",
        "\\end{bmatrix}$$\n",
        "\n",
        "$$\\mathbf{M}^\\top = \\begin{bmatrix}\n",
        "1 & 4 & 7\\\\\n",
        "2 & 5 & 8\\\\\n",
        "3 & 6 & 9\\\\\n",
        "\\end{bmatrix}$$"
      ],
      "metadata": {
        "id": "_7Oaee5HXwpB"
      }
    },
    {
      "cell_type": "code",
      "source": [
        "m = [[1, 2, 3],\n",
        "     [4, 5, 6],\n",
        "     [7, 8, 9]]\n",
        "\n",
        "# your implementation\n",
        "\n",
        "result = [list(row) for row in zip(*m)]\n",
        "result"
      ],
      "metadata": {
        "id": "1tmJ7vk5Y-y1",
        "outputId": "0b32c7b8-756c-4c40-83a3-7d15ef5a2040",
        "colab": {
          "base_uri": "https://localhost:8080/"
        }
      },
      "execution_count": 230,
      "outputs": [
        {
          "output_type": "execute_result",
          "data": {
            "text/plain": [
              "[[1, 4, 7], [2, 5, 8], [3, 6, 9]]"
            ]
          },
          "metadata": {},
          "execution_count": 230
        }
      ]
    },
    {
      "cell_type": "markdown",
      "source": [
        "### **Transpose M (solution)**"
      ],
      "metadata": {
        "id": "JQ-VMtxSZbmu"
      }
    },
    {
      "cell_type": "code",
      "source": [
        "# transpose M implementation\n",
        "\n",
        "m = [[1, 2, 3],\n",
        "     [4, 5, 6],\n",
        "     [7, 8, 9]]\n",
        "\n",
        "m_t = [list(row) for row in zip(*m)]\n",
        "m_t"
      ],
      "metadata": {
        "id": "qnx5g-EFZfCU",
        "outputId": "e35f63c5-137c-4343-8c7d-33bdc81ab2e6",
        "colab": {
          "base_uri": "https://localhost:8080/"
        }
      },
      "execution_count": 207,
      "outputs": [
        {
          "output_type": "execute_result",
          "data": {
            "text/plain": [
              "[[1, 4, 7], [2, 5, 8], [3, 6, 9]]"
            ]
          },
          "metadata": {},
          "execution_count": 207
        }
      ]
    },
    {
      "cell_type": "markdown",
      "source": [
        "### **Transpose (a less elegant solution)**"
      ],
      "metadata": {
        "id": "FPtgABMC9S7Z"
      }
    },
    {
      "cell_type": "code",
      "source": [
        "# transpose M implementation\n",
        "\n",
        "m = [[1, 2, 3],\n",
        "     [4, 5, 6],\n",
        "     [7, 8, 9]]\n",
        "\n",
        "m_t = []\n",
        "\n",
        "for i in range(len(m[0])):\n",
        "    trow = []\n",
        "    for row in m:\n",
        "        trow.append(row[i])\n",
        "    m_t.append(trow)\n",
        "m_t"
      ],
      "metadata": {
        "id": "ZIj4v2dT9ah4",
        "outputId": "b8bc9236-e26e-40bd-98d9-21a2723cc3f4",
        "colab": {
          "base_uri": "https://localhost:8080/"
        }
      },
      "execution_count": 231,
      "outputs": [
        {
          "output_type": "execute_result",
          "data": {
            "text/plain": [
              "[[1, 4, 7], [2, 5, 8], [3, 6, 9]]"
            ]
          },
          "metadata": {},
          "execution_count": 231
        }
      ]
    },
    {
      "cell_type": "markdown",
      "source": [
        "## **Functions**"
      ],
      "metadata": {
        "id": "ZqaDmjT_pLJj"
      }
    },
    {
      "cell_type": "markdown",
      "source": [
        "### **Defining Functions**\n",
        "The keyword `def` introduces a function definition. It must be followed by the function name and the parenthesized list of formal parameters. The statements that form the body of the function start at the next line, and must be indented.\n",
        "\n",
        "#### 🌊🌊 for a deep dive see [\\[ 1 \\]](https://docs.python.org/3/tutorial/controlflow.html#defining-functions) and [\\[ 2 \\]](https://docs.python.org/3/reference/compound_stmts.html#function-definitions)"
      ],
      "metadata": {
        "id": "sfqd6W6JJpCq"
      }
    },
    {
      "cell_type": "code",
      "source": [
        "def my_function(arg1, arg2=\"default value\", *args, **kwargs):\n",
        "  print(f\"mandatory positional arg {arg1}\")\n",
        "  print(f\"optional  potisional arg {arg2}\")\n",
        "  print(f\"optional  potisional arg {args}\")\n",
        "  print(f\"optional  keyword arg    {kwargs}\")\n",
        "  return \"DONE\"\n",
        "\n",
        "my_function(1, 2, 3, 4, a=20, b=21, c=22, d=23)"
      ],
      "metadata": {
        "id": "FvSv2v-pKGlq",
        "outputId": "2cc2c247-34e3-4622-a280-3e517657958a",
        "colab": {
          "base_uri": "https://localhost:8080/",
          "height": 109
        }
      },
      "execution_count": 232,
      "outputs": [
        {
          "output_type": "stream",
          "name": "stdout",
          "text": [
            "mandatory positional arg 1\n",
            "optional  potisional arg 2\n",
            "optional  potisional arg (3, 4)\n",
            "optional  keyword arg    {'a': 20, 'b': 21, 'c': 22, 'd': 23}\n"
          ]
        },
        {
          "output_type": "execute_result",
          "data": {
            "text/plain": [
              "'DONE'"
            ],
            "application/vnd.google.colaboratory.intrinsic+json": {
              "type": "string"
            }
          },
          "metadata": {},
          "execution_count": 232
        }
      ]
    },
    {
      "cell_type": "code",
      "source": [
        "# beware of mutable default arguments\n",
        "def my_function(item, my_list=[]):\n",
        "  my_list.append(item)\n",
        "  return my_list\n",
        "\n",
        "# first call\n",
        "res = my_function(\"item 1\")\n",
        "\n",
        "# second call\n",
        "res = my_function(\"item 2\")\n",
        "\n",
        "# third call\n",
        "res = my_function(\"item 3\")\n",
        "\n",
        "# my_list always points to the same object!\n",
        "res"
      ],
      "metadata": {
        "id": "NF5xCunVaIiT",
        "outputId": "bcc166c2-fd4e-4e34-8c61-04e9e2fcd065",
        "colab": {
          "base_uri": "https://localhost:8080/"
        }
      },
      "execution_count": 233,
      "outputs": [
        {
          "output_type": "execute_result",
          "data": {
            "text/plain": [
              "['item 1', 'item 2', 'item 3']"
            ]
          },
          "metadata": {},
          "execution_count": 233
        }
      ]
    },
    {
      "cell_type": "code",
      "source": [
        "# how to treat mutable arguments\n",
        "def my_function(item, my_list=None):\n",
        "  my_list = [] if not my_list else my_list\n",
        "  my_list.append(item)\n",
        "  return my_list\n",
        "\n",
        "# first call\n",
        "res = my_function(\"item 1\")\n",
        "\n",
        "# second call\n",
        "res = my_function(\"item 2\")\n",
        "\n",
        "# third call\n",
        "res = my_function(\"item 3\")\n",
        "\n",
        "# a new list is initialized at each call\n",
        "res"
      ],
      "metadata": {
        "id": "aDHxEykMav1J",
        "outputId": "b7776d68-f63f-4d88-ccc7-746deb91a939",
        "colab": {
          "base_uri": "https://localhost:8080/"
        }
      },
      "execution_count": 234,
      "outputs": [
        {
          "output_type": "execute_result",
          "data": {
            "text/plain": [
              "['item 3']"
            ]
          },
          "metadata": {},
          "execution_count": 234
        }
      ]
    },
    {
      "cell_type": "markdown",
      "source": [
        "## **Exercise Break 👩‍💻 👨‍💻**"
      ],
      "metadata": {
        "id": "JXmUUxycSXoF"
      }
    },
    {
      "cell_type": "markdown",
      "source": [
        "### **Tokenizer**\n",
        "Write a function `tokenize` that accept a string of text and tokenize it, returning both words and punctuation marks as separate tokens.\n",
        "\n",
        "For example, `tokenize(\"this, is just... an example\")` should output `['this', ',', 'is', 'just', '.', '.', '.', 'an', 'example']`.\n",
        "\n",
        "Make sure that your function is able to cover a wide range of punctuation marks !\"#$%&\\'()*+,-./:;<=>?@[\\\\]^_`{|}~.\n",
        "\n",
        "You can get the previous list of ASCII characters using `from string import punctuation`."
      ],
      "metadata": {
        "id": "KYkUmHMwcLp5"
      }
    },
    {
      "cell_type": "code",
      "source": [
        "# your implementation\n",
        "from string import punctuation\n",
        "\n",
        "def tokenize(string):\n",
        "  print(string.split())\n",
        "\n",
        "  \n",
        "tokenize(\"This is just, an example..\")"
      ],
      "metadata": {
        "id": "Suh0mhGFeTXZ",
        "outputId": "8243e525-74f6-4159-b9d0-6e15d92fb434",
        "colab": {
          "base_uri": "https://localhost:8080/"
        }
      },
      "execution_count": 244,
      "outputs": [
        {
          "output_type": "stream",
          "name": "stdout",
          "text": [
            "['This', 'is', 'just,', 'an', 'example..']\n"
          ]
        }
      ]
    },
    {
      "cell_type": "markdown",
      "source": [
        "### **Tokenizer (solution)**"
      ],
      "metadata": {
        "id": "ccozCP4SiSmP"
      }
    },
    {
      "cell_type": "code",
      "source": [
        "# tokenizer implementation\n",
        "from string import punctuation\n",
        "\n",
        "\n",
        "def tokenize(sentence):\n",
        "  table = str.maketrans(\n",
        "      # add leading and trailing space to each punctuation mark\n",
        "      {mark: f\" {mark} \" for mark in punctuation}\n",
        "      )\n",
        "  # split the sentence at each space\n",
        "  tokens = sentence.translate(table).split()\n",
        "\n",
        "  return tokens"
      ],
      "metadata": {
        "id": "sFNy0TlYeW0h"
      },
      "execution_count": null,
      "outputs": []
    },
    {
      "cell_type": "markdown",
      "source": [
        "### **Count words**\n",
        "Write a function `count` that accept a potentially infinite number of words and returns a count of how many times each word has appeared.\n",
        "\n",
        "For example, `count(\"do\", \"or\", \"DO\", \"not\", \"there\", \"is\", \"no\", \"try\")` should output `{'do': 2, 'is': 1, 'no': 1, 'not': 1, 'or': 1, 'there': 1, 'try': 1}` (remember that dictionary are unordered).\n",
        "\n",
        "Make sure to handle capitalisation, words such as `\"do\"` and `\"DO\"` should be considered the same."
      ],
      "metadata": {
        "id": "Ewjh7-lqiqcM"
      }
    },
    {
      "cell_type": "code",
      "source": [
        "# your implementation"
      ],
      "metadata": {
        "id": "k_-mseO5qoVc"
      },
      "execution_count": null,
      "outputs": []
    },
    {
      "cell_type": "markdown",
      "source": [
        "### **Count words (solution)**"
      ],
      "metadata": {
        "id": "qJKttMwuqqrM"
      }
    },
    {
      "cell_type": "code",
      "source": [
        "# count words implementation\n",
        "\n",
        "def count(*args):\n",
        "  # join all args in a string and lowercase it\n",
        "  string = \" \".join(args).lower()\n",
        "  # uses count(), implemented by all sequence types\n",
        "  counter = {word: string.count(word) for word in string.split()}\n",
        "\n",
        "  return counter\n",
        "\n",
        "count(\"do\", \"or\", \"DO\", \"not\", \"there\", \"is\", \"no\", \"try\")"
      ],
      "metadata": {
        "id": "UEwAjXdhiuAF"
      },
      "execution_count": null,
      "outputs": []
    },
    {
      "cell_type": "markdown",
      "source": [
        "## **Classes**"
      ],
      "metadata": {
        "id": "kzXRu-3RFSgI"
      }
    },
    {
      "cell_type": "markdown",
      "source": [
        "### **Class Definition Syntax**\n",
        "\n",
        "#### 🌊🌊 for a deep dive see [\\[ 1 \\]](https://docs.python.org/3/tutorial/classes.html#a-first-look-at-classes)"
      ],
      "metadata": {
        "id": "PupMKUT3I016"
      }
    },
    {
      "cell_type": "code",
      "source": [
        "class Player:\n",
        "  def __init__(self, name, role, age):\n",
        "    self.name = name\n",
        "    self.role = role\n",
        "    self.age = age\n",
        "  \n",
        "  def __str__(self):\n",
        "    return f\"name: {self.name}, role: {self.role}, age: {self.age}\"\n",
        "\n",
        "  def __repr__(self):\n",
        "    return \"Player(name, role, age)\"\n",
        "\n",
        "yoda = Player(\"yoda\", \"jedi\", 900)"
      ],
      "metadata": {
        "id": "gRxGawlbF4S_"
      },
      "execution_count": 245,
      "outputs": []
    },
    {
      "cell_type": "markdown",
      "source": [
        "## **Miscellaneous**"
      ],
      "metadata": {
        "id": "_6pzjzqcLR1s"
      }
    },
    {
      "cell_type": "code",
      "source": [
        "a, b = 4, 0\n",
        "\n",
        "try:\n",
        "  print(a / b)\n",
        "except ZeroDivisionError as z:\n",
        "  print(str(z))\n",
        "finally:\n",
        "  print(\"finally block\")"
      ],
      "metadata": {
        "id": "X-FMlsDJEft8",
        "outputId": "32f00e0e-3e81-4f6d-8b91-3d3a0ade007d",
        "colab": {
          "base_uri": "https://localhost:8080/"
        }
      },
      "execution_count": 246,
      "outputs": [
        {
          "output_type": "stream",
          "name": "stdout",
          "text": [
            "division by zero\n",
            "finally block\n"
          ]
        }
      ]
    },
    {
      "cell_type": "code",
      "source": [
        "import requests\n",
        "\n",
        "url = \"https://gist.githubusercontent.com/phillipj/4944029/raw/75ba2243dd5ec2875f629bf5d79f6c1e4b5a8b46/alice_in_wonderland.txt\"\n",
        "\n",
        "response = requests.get(url)\n",
        "data = response.text"
      ],
      "metadata": {
        "id": "rcTg2w1CKtpl"
      },
      "execution_count": 247,
      "outputs": []
    }
  ]
}